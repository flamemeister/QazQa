{
  "nbformat": 4,
  "nbformat_minor": 0,
  "metadata": {
    "colab": {
      "provenance": [],
      "include_colab_link": true
    },
    "kernelspec": {
      "name": "python3",
      "display_name": "Python 3"
    },
    "language_info": {
      "name": "python"
    },
    "widgets": {
      "application/vnd.jupyter.widget-state+json": {
        "169412b1caff41bd97c2990109ce1144": {
          "model_module": "@jupyter-widgets/controls",
          "model_name": "HBoxModel",
          "model_module_version": "1.5.0",
          "state": {
            "_dom_classes": [],
            "_model_module": "@jupyter-widgets/controls",
            "_model_module_version": "1.5.0",
            "_model_name": "HBoxModel",
            "_view_count": null,
            "_view_module": "@jupyter-widgets/controls",
            "_view_module_version": "1.5.0",
            "_view_name": "HBoxView",
            "box_style": "",
            "children": [
              "IPY_MODEL_d27cd6e59b8e4428b6cd6ecd73512c30",
              "IPY_MODEL_1ea9ba5bee0843eaad2978acf40fbb3f",
              "IPY_MODEL_a943a25640a94f90924afa31082fe28b"
            ],
            "layout": "IPY_MODEL_cc98c36b80e346d89dc132dd432bc7e0"
          }
        },
        "d27cd6e59b8e4428b6cd6ecd73512c30": {
          "model_module": "@jupyter-widgets/controls",
          "model_name": "HTMLModel",
          "model_module_version": "1.5.0",
          "state": {
            "_dom_classes": [],
            "_model_module": "@jupyter-widgets/controls",
            "_model_module_version": "1.5.0",
            "_model_name": "HTMLModel",
            "_view_count": null,
            "_view_module": "@jupyter-widgets/controls",
            "_view_module_version": "1.5.0",
            "_view_name": "HTMLView",
            "description": "",
            "description_tooltip": null,
            "layout": "IPY_MODEL_f9840a26f2b143948332da6fe89a8eac",
            "placeholder": "​",
            "style": "IPY_MODEL_a23edfc4120444f49dbaf40892b5440a",
            "value": "Downloading (…)ve/main/spiece.model: 100%"
          }
        },
        "1ea9ba5bee0843eaad2978acf40fbb3f": {
          "model_module": "@jupyter-widgets/controls",
          "model_name": "FloatProgressModel",
          "model_module_version": "1.5.0",
          "state": {
            "_dom_classes": [],
            "_model_module": "@jupyter-widgets/controls",
            "_model_module_version": "1.5.0",
            "_model_name": "FloatProgressModel",
            "_view_count": null,
            "_view_module": "@jupyter-widgets/controls",
            "_view_module_version": "1.5.0",
            "_view_name": "ProgressView",
            "bar_style": "success",
            "description": "",
            "description_tooltip": null,
            "layout": "IPY_MODEL_66128c7be9ef4384b49c2ae0b5b0a0b1",
            "max": 4309802,
            "min": 0,
            "orientation": "horizontal",
            "style": "IPY_MODEL_1226779585d64e44ab9de8b7a59a245e",
            "value": 4309802
          }
        },
        "a943a25640a94f90924afa31082fe28b": {
          "model_module": "@jupyter-widgets/controls",
          "model_name": "HTMLModel",
          "model_module_version": "1.5.0",
          "state": {
            "_dom_classes": [],
            "_model_module": "@jupyter-widgets/controls",
            "_model_module_version": "1.5.0",
            "_model_name": "HTMLModel",
            "_view_count": null,
            "_view_module": "@jupyter-widgets/controls",
            "_view_module_version": "1.5.0",
            "_view_name": "HTMLView",
            "description": "",
            "description_tooltip": null,
            "layout": "IPY_MODEL_c88f52934dbe4064a46746719305a09c",
            "placeholder": "​",
            "style": "IPY_MODEL_4ef8e1cb01af48d7b438d10c6926c1af",
            "value": " 4.31M/4.31M [00:00&lt;00:00, 37.3MB/s]"
          }
        },
        "cc98c36b80e346d89dc132dd432bc7e0": {
          "model_module": "@jupyter-widgets/base",
          "model_name": "LayoutModel",
          "model_module_version": "1.2.0",
          "state": {
            "_model_module": "@jupyter-widgets/base",
            "_model_module_version": "1.2.0",
            "_model_name": "LayoutModel",
            "_view_count": null,
            "_view_module": "@jupyter-widgets/base",
            "_view_module_version": "1.2.0",
            "_view_name": "LayoutView",
            "align_content": null,
            "align_items": null,
            "align_self": null,
            "border": null,
            "bottom": null,
            "display": null,
            "flex": null,
            "flex_flow": null,
            "grid_area": null,
            "grid_auto_columns": null,
            "grid_auto_flow": null,
            "grid_auto_rows": null,
            "grid_column": null,
            "grid_gap": null,
            "grid_row": null,
            "grid_template_areas": null,
            "grid_template_columns": null,
            "grid_template_rows": null,
            "height": null,
            "justify_content": null,
            "justify_items": null,
            "left": null,
            "margin": null,
            "max_height": null,
            "max_width": null,
            "min_height": null,
            "min_width": null,
            "object_fit": null,
            "object_position": null,
            "order": null,
            "overflow": null,
            "overflow_x": null,
            "overflow_y": null,
            "padding": null,
            "right": null,
            "top": null,
            "visibility": null,
            "width": null
          }
        },
        "f9840a26f2b143948332da6fe89a8eac": {
          "model_module": "@jupyter-widgets/base",
          "model_name": "LayoutModel",
          "model_module_version": "1.2.0",
          "state": {
            "_model_module": "@jupyter-widgets/base",
            "_model_module_version": "1.2.0",
            "_model_name": "LayoutModel",
            "_view_count": null,
            "_view_module": "@jupyter-widgets/base",
            "_view_module_version": "1.2.0",
            "_view_name": "LayoutView",
            "align_content": null,
            "align_items": null,
            "align_self": null,
            "border": null,
            "bottom": null,
            "display": null,
            "flex": null,
            "flex_flow": null,
            "grid_area": null,
            "grid_auto_columns": null,
            "grid_auto_flow": null,
            "grid_auto_rows": null,
            "grid_column": null,
            "grid_gap": null,
            "grid_row": null,
            "grid_template_areas": null,
            "grid_template_columns": null,
            "grid_template_rows": null,
            "height": null,
            "justify_content": null,
            "justify_items": null,
            "left": null,
            "margin": null,
            "max_height": null,
            "max_width": null,
            "min_height": null,
            "min_width": null,
            "object_fit": null,
            "object_position": null,
            "order": null,
            "overflow": null,
            "overflow_x": null,
            "overflow_y": null,
            "padding": null,
            "right": null,
            "top": null,
            "visibility": null,
            "width": null
          }
        },
        "a23edfc4120444f49dbaf40892b5440a": {
          "model_module": "@jupyter-widgets/controls",
          "model_name": "DescriptionStyleModel",
          "model_module_version": "1.5.0",
          "state": {
            "_model_module": "@jupyter-widgets/controls",
            "_model_module_version": "1.5.0",
            "_model_name": "DescriptionStyleModel",
            "_view_count": null,
            "_view_module": "@jupyter-widgets/base",
            "_view_module_version": "1.2.0",
            "_view_name": "StyleView",
            "description_width": ""
          }
        },
        "66128c7be9ef4384b49c2ae0b5b0a0b1": {
          "model_module": "@jupyter-widgets/base",
          "model_name": "LayoutModel",
          "model_module_version": "1.2.0",
          "state": {
            "_model_module": "@jupyter-widgets/base",
            "_model_module_version": "1.2.0",
            "_model_name": "LayoutModel",
            "_view_count": null,
            "_view_module": "@jupyter-widgets/base",
            "_view_module_version": "1.2.0",
            "_view_name": "LayoutView",
            "align_content": null,
            "align_items": null,
            "align_self": null,
            "border": null,
            "bottom": null,
            "display": null,
            "flex": null,
            "flex_flow": null,
            "grid_area": null,
            "grid_auto_columns": null,
            "grid_auto_flow": null,
            "grid_auto_rows": null,
            "grid_column": null,
            "grid_gap": null,
            "grid_row": null,
            "grid_template_areas": null,
            "grid_template_columns": null,
            "grid_template_rows": null,
            "height": null,
            "justify_content": null,
            "justify_items": null,
            "left": null,
            "margin": null,
            "max_height": null,
            "max_width": null,
            "min_height": null,
            "min_width": null,
            "object_fit": null,
            "object_position": null,
            "order": null,
            "overflow": null,
            "overflow_x": null,
            "overflow_y": null,
            "padding": null,
            "right": null,
            "top": null,
            "visibility": null,
            "width": null
          }
        },
        "1226779585d64e44ab9de8b7a59a245e": {
          "model_module": "@jupyter-widgets/controls",
          "model_name": "ProgressStyleModel",
          "model_module_version": "1.5.0",
          "state": {
            "_model_module": "@jupyter-widgets/controls",
            "_model_module_version": "1.5.0",
            "_model_name": "ProgressStyleModel",
            "_view_count": null,
            "_view_module": "@jupyter-widgets/base",
            "_view_module_version": "1.2.0",
            "_view_name": "StyleView",
            "bar_color": null,
            "description_width": ""
          }
        },
        "c88f52934dbe4064a46746719305a09c": {
          "model_module": "@jupyter-widgets/base",
          "model_name": "LayoutModel",
          "model_module_version": "1.2.0",
          "state": {
            "_model_module": "@jupyter-widgets/base",
            "_model_module_version": "1.2.0",
            "_model_name": "LayoutModel",
            "_view_count": null,
            "_view_module": "@jupyter-widgets/base",
            "_view_module_version": "1.2.0",
            "_view_name": "LayoutView",
            "align_content": null,
            "align_items": null,
            "align_self": null,
            "border": null,
            "bottom": null,
            "display": null,
            "flex": null,
            "flex_flow": null,
            "grid_area": null,
            "grid_auto_columns": null,
            "grid_auto_flow": null,
            "grid_auto_rows": null,
            "grid_column": null,
            "grid_gap": null,
            "grid_row": null,
            "grid_template_areas": null,
            "grid_template_columns": null,
            "grid_template_rows": null,
            "height": null,
            "justify_content": null,
            "justify_items": null,
            "left": null,
            "margin": null,
            "max_height": null,
            "max_width": null,
            "min_height": null,
            "min_width": null,
            "object_fit": null,
            "object_position": null,
            "order": null,
            "overflow": null,
            "overflow_x": null,
            "overflow_y": null,
            "padding": null,
            "right": null,
            "top": null,
            "visibility": null,
            "width": null
          }
        },
        "4ef8e1cb01af48d7b438d10c6926c1af": {
          "model_module": "@jupyter-widgets/controls",
          "model_name": "DescriptionStyleModel",
          "model_module_version": "1.5.0",
          "state": {
            "_model_module": "@jupyter-widgets/controls",
            "_model_module_version": "1.5.0",
            "_model_name": "DescriptionStyleModel",
            "_view_count": null,
            "_view_module": "@jupyter-widgets/base",
            "_view_module_version": "1.2.0",
            "_view_name": "StyleView",
            "description_width": ""
          }
        },
        "c260a8beab8d408eb7142af759e55917": {
          "model_module": "@jupyter-widgets/controls",
          "model_name": "HBoxModel",
          "model_module_version": "1.5.0",
          "state": {
            "_dom_classes": [],
            "_model_module": "@jupyter-widgets/controls",
            "_model_module_version": "1.5.0",
            "_model_name": "HBoxModel",
            "_view_count": null,
            "_view_module": "@jupyter-widgets/controls",
            "_view_module_version": "1.5.0",
            "_view_name": "HBoxView",
            "box_style": "",
            "children": [
              "IPY_MODEL_6dc58401190c479980c68fbc68ac33c2",
              "IPY_MODEL_af1ef590895b46cf92de50f97b2baaf3",
              "IPY_MODEL_022a46554cd648e39e97f17f41b16098"
            ],
            "layout": "IPY_MODEL_f15ab4284bfa45e0817fdb9cab71e9a3"
          }
        },
        "6dc58401190c479980c68fbc68ac33c2": {
          "model_module": "@jupyter-widgets/controls",
          "model_name": "HTMLModel",
          "model_module_version": "1.5.0",
          "state": {
            "_dom_classes": [],
            "_model_module": "@jupyter-widgets/controls",
            "_model_module_version": "1.5.0",
            "_model_name": "HTMLModel",
            "_view_count": null,
            "_view_module": "@jupyter-widgets/controls",
            "_view_module_version": "1.5.0",
            "_view_name": "HTMLView",
            "description": "",
            "description_tooltip": null,
            "layout": "IPY_MODEL_a551c27d42704276a028f5bd172b8467",
            "placeholder": "​",
            "style": "IPY_MODEL_ccfa2ecfc5bb438bb67d220131c20760",
            "value": "Downloading (…)cial_tokens_map.json: 100%"
          }
        },
        "af1ef590895b46cf92de50f97b2baaf3": {
          "model_module": "@jupyter-widgets/controls",
          "model_name": "FloatProgressModel",
          "model_module_version": "1.5.0",
          "state": {
            "_dom_classes": [],
            "_model_module": "@jupyter-widgets/controls",
            "_model_module_version": "1.5.0",
            "_model_name": "FloatProgressModel",
            "_view_count": null,
            "_view_module": "@jupyter-widgets/controls",
            "_view_module_version": "1.5.0",
            "_view_name": "ProgressView",
            "bar_style": "success",
            "description": "",
            "description_tooltip": null,
            "layout": "IPY_MODEL_40f0455defa94077a20acfca6d5e82d8",
            "max": 65,
            "min": 0,
            "orientation": "horizontal",
            "style": "IPY_MODEL_ca367ffff5404c82b5ee5ed9cf60d466",
            "value": 65
          }
        },
        "022a46554cd648e39e97f17f41b16098": {
          "model_module": "@jupyter-widgets/controls",
          "model_name": "HTMLModel",
          "model_module_version": "1.5.0",
          "state": {
            "_dom_classes": [],
            "_model_module": "@jupyter-widgets/controls",
            "_model_module_version": "1.5.0",
            "_model_name": "HTMLModel",
            "_view_count": null,
            "_view_module": "@jupyter-widgets/controls",
            "_view_module_version": "1.5.0",
            "_view_name": "HTMLView",
            "description": "",
            "description_tooltip": null,
            "layout": "IPY_MODEL_47b96c50ed8e4c90acb6084e91ae5ec7",
            "placeholder": "​",
            "style": "IPY_MODEL_9d6a20432ab7403992fade8c326d415e",
            "value": " 65.0/65.0 [00:00&lt;00:00, 842B/s]"
          }
        },
        "f15ab4284bfa45e0817fdb9cab71e9a3": {
          "model_module": "@jupyter-widgets/base",
          "model_name": "LayoutModel",
          "model_module_version": "1.2.0",
          "state": {
            "_model_module": "@jupyter-widgets/base",
            "_model_module_version": "1.2.0",
            "_model_name": "LayoutModel",
            "_view_count": null,
            "_view_module": "@jupyter-widgets/base",
            "_view_module_version": "1.2.0",
            "_view_name": "LayoutView",
            "align_content": null,
            "align_items": null,
            "align_self": null,
            "border": null,
            "bottom": null,
            "display": null,
            "flex": null,
            "flex_flow": null,
            "grid_area": null,
            "grid_auto_columns": null,
            "grid_auto_flow": null,
            "grid_auto_rows": null,
            "grid_column": null,
            "grid_gap": null,
            "grid_row": null,
            "grid_template_areas": null,
            "grid_template_columns": null,
            "grid_template_rows": null,
            "height": null,
            "justify_content": null,
            "justify_items": null,
            "left": null,
            "margin": null,
            "max_height": null,
            "max_width": null,
            "min_height": null,
            "min_width": null,
            "object_fit": null,
            "object_position": null,
            "order": null,
            "overflow": null,
            "overflow_x": null,
            "overflow_y": null,
            "padding": null,
            "right": null,
            "top": null,
            "visibility": null,
            "width": null
          }
        },
        "a551c27d42704276a028f5bd172b8467": {
          "model_module": "@jupyter-widgets/base",
          "model_name": "LayoutModel",
          "model_module_version": "1.2.0",
          "state": {
            "_model_module": "@jupyter-widgets/base",
            "_model_module_version": "1.2.0",
            "_model_name": "LayoutModel",
            "_view_count": null,
            "_view_module": "@jupyter-widgets/base",
            "_view_module_version": "1.2.0",
            "_view_name": "LayoutView",
            "align_content": null,
            "align_items": null,
            "align_self": null,
            "border": null,
            "bottom": null,
            "display": null,
            "flex": null,
            "flex_flow": null,
            "grid_area": null,
            "grid_auto_columns": null,
            "grid_auto_flow": null,
            "grid_auto_rows": null,
            "grid_column": null,
            "grid_gap": null,
            "grid_row": null,
            "grid_template_areas": null,
            "grid_template_columns": null,
            "grid_template_rows": null,
            "height": null,
            "justify_content": null,
            "justify_items": null,
            "left": null,
            "margin": null,
            "max_height": null,
            "max_width": null,
            "min_height": null,
            "min_width": null,
            "object_fit": null,
            "object_position": null,
            "order": null,
            "overflow": null,
            "overflow_x": null,
            "overflow_y": null,
            "padding": null,
            "right": null,
            "top": null,
            "visibility": null,
            "width": null
          }
        },
        "ccfa2ecfc5bb438bb67d220131c20760": {
          "model_module": "@jupyter-widgets/controls",
          "model_name": "DescriptionStyleModel",
          "model_module_version": "1.5.0",
          "state": {
            "_model_module": "@jupyter-widgets/controls",
            "_model_module_version": "1.5.0",
            "_model_name": "DescriptionStyleModel",
            "_view_count": null,
            "_view_module": "@jupyter-widgets/base",
            "_view_module_version": "1.2.0",
            "_view_name": "StyleView",
            "description_width": ""
          }
        },
        "40f0455defa94077a20acfca6d5e82d8": {
          "model_module": "@jupyter-widgets/base",
          "model_name": "LayoutModel",
          "model_module_version": "1.2.0",
          "state": {
            "_model_module": "@jupyter-widgets/base",
            "_model_module_version": "1.2.0",
            "_model_name": "LayoutModel",
            "_view_count": null,
            "_view_module": "@jupyter-widgets/base",
            "_view_module_version": "1.2.0",
            "_view_name": "LayoutView",
            "align_content": null,
            "align_items": null,
            "align_self": null,
            "border": null,
            "bottom": null,
            "display": null,
            "flex": null,
            "flex_flow": null,
            "grid_area": null,
            "grid_auto_columns": null,
            "grid_auto_flow": null,
            "grid_auto_rows": null,
            "grid_column": null,
            "grid_gap": null,
            "grid_row": null,
            "grid_template_areas": null,
            "grid_template_columns": null,
            "grid_template_rows": null,
            "height": null,
            "justify_content": null,
            "justify_items": null,
            "left": null,
            "margin": null,
            "max_height": null,
            "max_width": null,
            "min_height": null,
            "min_width": null,
            "object_fit": null,
            "object_position": null,
            "order": null,
            "overflow": null,
            "overflow_x": null,
            "overflow_y": null,
            "padding": null,
            "right": null,
            "top": null,
            "visibility": null,
            "width": null
          }
        },
        "ca367ffff5404c82b5ee5ed9cf60d466": {
          "model_module": "@jupyter-widgets/controls",
          "model_name": "ProgressStyleModel",
          "model_module_version": "1.5.0",
          "state": {
            "_model_module": "@jupyter-widgets/controls",
            "_model_module_version": "1.5.0",
            "_model_name": "ProgressStyleModel",
            "_view_count": null,
            "_view_module": "@jupyter-widgets/base",
            "_view_module_version": "1.2.0",
            "_view_name": "StyleView",
            "bar_color": null,
            "description_width": ""
          }
        },
        "47b96c50ed8e4c90acb6084e91ae5ec7": {
          "model_module": "@jupyter-widgets/base",
          "model_name": "LayoutModel",
          "model_module_version": "1.2.0",
          "state": {
            "_model_module": "@jupyter-widgets/base",
            "_model_module_version": "1.2.0",
            "_model_name": "LayoutModel",
            "_view_count": null,
            "_view_module": "@jupyter-widgets/base",
            "_view_module_version": "1.2.0",
            "_view_name": "LayoutView",
            "align_content": null,
            "align_items": null,
            "align_self": null,
            "border": null,
            "bottom": null,
            "display": null,
            "flex": null,
            "flex_flow": null,
            "grid_area": null,
            "grid_auto_columns": null,
            "grid_auto_flow": null,
            "grid_auto_rows": null,
            "grid_column": null,
            "grid_gap": null,
            "grid_row": null,
            "grid_template_areas": null,
            "grid_template_columns": null,
            "grid_template_rows": null,
            "height": null,
            "justify_content": null,
            "justify_items": null,
            "left": null,
            "margin": null,
            "max_height": null,
            "max_width": null,
            "min_height": null,
            "min_width": null,
            "object_fit": null,
            "object_position": null,
            "order": null,
            "overflow": null,
            "overflow_x": null,
            "overflow_y": null,
            "padding": null,
            "right": null,
            "top": null,
            "visibility": null,
            "width": null
          }
        },
        "9d6a20432ab7403992fade8c326d415e": {
          "model_module": "@jupyter-widgets/controls",
          "model_name": "DescriptionStyleModel",
          "model_module_version": "1.5.0",
          "state": {
            "_model_module": "@jupyter-widgets/controls",
            "_model_module_version": "1.5.0",
            "_model_name": "DescriptionStyleModel",
            "_view_count": null,
            "_view_module": "@jupyter-widgets/base",
            "_view_module_version": "1.2.0",
            "_view_name": "StyleView",
            "description_width": ""
          }
        },
        "90aa76f1e235449e923c149e15ece8d5": {
          "model_module": "@jupyter-widgets/controls",
          "model_name": "HBoxModel",
          "model_module_version": "1.5.0",
          "state": {
            "_dom_classes": [],
            "_model_module": "@jupyter-widgets/controls",
            "_model_module_version": "1.5.0",
            "_model_name": "HBoxModel",
            "_view_count": null,
            "_view_module": "@jupyter-widgets/controls",
            "_view_module_version": "1.5.0",
            "_view_name": "HBoxView",
            "box_style": "",
            "children": [
              "IPY_MODEL_e3116cc243f540119d0ff9a635b55d97",
              "IPY_MODEL_5e125c8d9bff40b7af29b4ce854fa7c4",
              "IPY_MODEL_55c539939b9948dcb6a8fa5d5204d1b6"
            ],
            "layout": "IPY_MODEL_ba12adba830748099cd75e766bbacdbe"
          }
        },
        "e3116cc243f540119d0ff9a635b55d97": {
          "model_module": "@jupyter-widgets/controls",
          "model_name": "HTMLModel",
          "model_module_version": "1.5.0",
          "state": {
            "_dom_classes": [],
            "_model_module": "@jupyter-widgets/controls",
            "_model_module_version": "1.5.0",
            "_model_name": "HTMLModel",
            "_view_count": null,
            "_view_module": "@jupyter-widgets/controls",
            "_view_module_version": "1.5.0",
            "_view_name": "HTMLView",
            "description": "",
            "description_tooltip": null,
            "layout": "IPY_MODEL_f8a7fc00e80b4d7e9fc80bfdae4db4a5",
            "placeholder": "​",
            "style": "IPY_MODEL_539690b45f2a434e9fba352161787eb6",
            "value": "Downloading (…)okenizer_config.json: 100%"
          }
        },
        "5e125c8d9bff40b7af29b4ce854fa7c4": {
          "model_module": "@jupyter-widgets/controls",
          "model_name": "FloatProgressModel",
          "model_module_version": "1.5.0",
          "state": {
            "_dom_classes": [],
            "_model_module": "@jupyter-widgets/controls",
            "_model_module_version": "1.5.0",
            "_model_name": "FloatProgressModel",
            "_view_count": null,
            "_view_module": "@jupyter-widgets/controls",
            "_view_module_version": "1.5.0",
            "_view_name": "ProgressView",
            "bar_style": "success",
            "description": "",
            "description_tooltip": null,
            "layout": "IPY_MODEL_7e7ee844f6dd4c65b092877b305dce7c",
            "max": 376,
            "min": 0,
            "orientation": "horizontal",
            "style": "IPY_MODEL_02a313b45e7f40fe9c96a2c4e5890e59",
            "value": 376
          }
        },
        "55c539939b9948dcb6a8fa5d5204d1b6": {
          "model_module": "@jupyter-widgets/controls",
          "model_name": "HTMLModel",
          "model_module_version": "1.5.0",
          "state": {
            "_dom_classes": [],
            "_model_module": "@jupyter-widgets/controls",
            "_model_module_version": "1.5.0",
            "_model_name": "HTMLModel",
            "_view_count": null,
            "_view_module": "@jupyter-widgets/controls",
            "_view_module_version": "1.5.0",
            "_view_name": "HTMLView",
            "description": "",
            "description_tooltip": null,
            "layout": "IPY_MODEL_b55f132a7e1c4b92aa5b34acd48312a2",
            "placeholder": "​",
            "style": "IPY_MODEL_228ff9a24d604159858b93ab9af79733",
            "value": " 376/376 [00:00&lt;00:00, 4.00kB/s]"
          }
        },
        "ba12adba830748099cd75e766bbacdbe": {
          "model_module": "@jupyter-widgets/base",
          "model_name": "LayoutModel",
          "model_module_version": "1.2.0",
          "state": {
            "_model_module": "@jupyter-widgets/base",
            "_model_module_version": "1.2.0",
            "_model_name": "LayoutModel",
            "_view_count": null,
            "_view_module": "@jupyter-widgets/base",
            "_view_module_version": "1.2.0",
            "_view_name": "LayoutView",
            "align_content": null,
            "align_items": null,
            "align_self": null,
            "border": null,
            "bottom": null,
            "display": null,
            "flex": null,
            "flex_flow": null,
            "grid_area": null,
            "grid_auto_columns": null,
            "grid_auto_flow": null,
            "grid_auto_rows": null,
            "grid_column": null,
            "grid_gap": null,
            "grid_row": null,
            "grid_template_areas": null,
            "grid_template_columns": null,
            "grid_template_rows": null,
            "height": null,
            "justify_content": null,
            "justify_items": null,
            "left": null,
            "margin": null,
            "max_height": null,
            "max_width": null,
            "min_height": null,
            "min_width": null,
            "object_fit": null,
            "object_position": null,
            "order": null,
            "overflow": null,
            "overflow_x": null,
            "overflow_y": null,
            "padding": null,
            "right": null,
            "top": null,
            "visibility": null,
            "width": null
          }
        },
        "f8a7fc00e80b4d7e9fc80bfdae4db4a5": {
          "model_module": "@jupyter-widgets/base",
          "model_name": "LayoutModel",
          "model_module_version": "1.2.0",
          "state": {
            "_model_module": "@jupyter-widgets/base",
            "_model_module_version": "1.2.0",
            "_model_name": "LayoutModel",
            "_view_count": null,
            "_view_module": "@jupyter-widgets/base",
            "_view_module_version": "1.2.0",
            "_view_name": "LayoutView",
            "align_content": null,
            "align_items": null,
            "align_self": null,
            "border": null,
            "bottom": null,
            "display": null,
            "flex": null,
            "flex_flow": null,
            "grid_area": null,
            "grid_auto_columns": null,
            "grid_auto_flow": null,
            "grid_auto_rows": null,
            "grid_column": null,
            "grid_gap": null,
            "grid_row": null,
            "grid_template_areas": null,
            "grid_template_columns": null,
            "grid_template_rows": null,
            "height": null,
            "justify_content": null,
            "justify_items": null,
            "left": null,
            "margin": null,
            "max_height": null,
            "max_width": null,
            "min_height": null,
            "min_width": null,
            "object_fit": null,
            "object_position": null,
            "order": null,
            "overflow": null,
            "overflow_x": null,
            "overflow_y": null,
            "padding": null,
            "right": null,
            "top": null,
            "visibility": null,
            "width": null
          }
        },
        "539690b45f2a434e9fba352161787eb6": {
          "model_module": "@jupyter-widgets/controls",
          "model_name": "DescriptionStyleModel",
          "model_module_version": "1.5.0",
          "state": {
            "_model_module": "@jupyter-widgets/controls",
            "_model_module_version": "1.5.0",
            "_model_name": "DescriptionStyleModel",
            "_view_count": null,
            "_view_module": "@jupyter-widgets/base",
            "_view_module_version": "1.2.0",
            "_view_name": "StyleView",
            "description_width": ""
          }
        },
        "7e7ee844f6dd4c65b092877b305dce7c": {
          "model_module": "@jupyter-widgets/base",
          "model_name": "LayoutModel",
          "model_module_version": "1.2.0",
          "state": {
            "_model_module": "@jupyter-widgets/base",
            "_model_module_version": "1.2.0",
            "_model_name": "LayoutModel",
            "_view_count": null,
            "_view_module": "@jupyter-widgets/base",
            "_view_module_version": "1.2.0",
            "_view_name": "LayoutView",
            "align_content": null,
            "align_items": null,
            "align_self": null,
            "border": null,
            "bottom": null,
            "display": null,
            "flex": null,
            "flex_flow": null,
            "grid_area": null,
            "grid_auto_columns": null,
            "grid_auto_flow": null,
            "grid_auto_rows": null,
            "grid_column": null,
            "grid_gap": null,
            "grid_row": null,
            "grid_template_areas": null,
            "grid_template_columns": null,
            "grid_template_rows": null,
            "height": null,
            "justify_content": null,
            "justify_items": null,
            "left": null,
            "margin": null,
            "max_height": null,
            "max_width": null,
            "min_height": null,
            "min_width": null,
            "object_fit": null,
            "object_position": null,
            "order": null,
            "overflow": null,
            "overflow_x": null,
            "overflow_y": null,
            "padding": null,
            "right": null,
            "top": null,
            "visibility": null,
            "width": null
          }
        },
        "02a313b45e7f40fe9c96a2c4e5890e59": {
          "model_module": "@jupyter-widgets/controls",
          "model_name": "ProgressStyleModel",
          "model_module_version": "1.5.0",
          "state": {
            "_model_module": "@jupyter-widgets/controls",
            "_model_module_version": "1.5.0",
            "_model_name": "ProgressStyleModel",
            "_view_count": null,
            "_view_module": "@jupyter-widgets/base",
            "_view_module_version": "1.2.0",
            "_view_name": "StyleView",
            "bar_color": null,
            "description_width": ""
          }
        },
        "b55f132a7e1c4b92aa5b34acd48312a2": {
          "model_module": "@jupyter-widgets/base",
          "model_name": "LayoutModel",
          "model_module_version": "1.2.0",
          "state": {
            "_model_module": "@jupyter-widgets/base",
            "_model_module_version": "1.2.0",
            "_model_name": "LayoutModel",
            "_view_count": null,
            "_view_module": "@jupyter-widgets/base",
            "_view_module_version": "1.2.0",
            "_view_name": "LayoutView",
            "align_content": null,
            "align_items": null,
            "align_self": null,
            "border": null,
            "bottom": null,
            "display": null,
            "flex": null,
            "flex_flow": null,
            "grid_area": null,
            "grid_auto_columns": null,
            "grid_auto_flow": null,
            "grid_auto_rows": null,
            "grid_column": null,
            "grid_gap": null,
            "grid_row": null,
            "grid_template_areas": null,
            "grid_template_columns": null,
            "grid_template_rows": null,
            "height": null,
            "justify_content": null,
            "justify_items": null,
            "left": null,
            "margin": null,
            "max_height": null,
            "max_width": null,
            "min_height": null,
            "min_width": null,
            "object_fit": null,
            "object_position": null,
            "order": null,
            "overflow": null,
            "overflow_x": null,
            "overflow_y": null,
            "padding": null,
            "right": null,
            "top": null,
            "visibility": null,
            "width": null
          }
        },
        "228ff9a24d604159858b93ab9af79733": {
          "model_module": "@jupyter-widgets/controls",
          "model_name": "DescriptionStyleModel",
          "model_module_version": "1.5.0",
          "state": {
            "_model_module": "@jupyter-widgets/controls",
            "_model_module_version": "1.5.0",
            "_model_name": "DescriptionStyleModel",
            "_view_count": null,
            "_view_module": "@jupyter-widgets/base",
            "_view_module_version": "1.2.0",
            "_view_name": "StyleView",
            "description_width": ""
          }
        },
        "7d96355746f24bb59cee04b2f5cb7020": {
          "model_module": "@jupyter-widgets/controls",
          "model_name": "HBoxModel",
          "model_module_version": "1.5.0",
          "state": {
            "_dom_classes": [],
            "_model_module": "@jupyter-widgets/controls",
            "_model_module_version": "1.5.0",
            "_model_name": "HBoxModel",
            "_view_count": null,
            "_view_module": "@jupyter-widgets/controls",
            "_view_module_version": "1.5.0",
            "_view_name": "HBoxView",
            "box_style": "",
            "children": [
              "IPY_MODEL_13e70660cbeb476989c2bc82c7e6d70d",
              "IPY_MODEL_acb29b35b0714a17af0f0c54e56e893e",
              "IPY_MODEL_0ee0a75973f54f2cb8cddbe321473980"
            ],
            "layout": "IPY_MODEL_c4fe9277546c4db3aefaa24c9319fe15"
          }
        },
        "13e70660cbeb476989c2bc82c7e6d70d": {
          "model_module": "@jupyter-widgets/controls",
          "model_name": "HTMLModel",
          "model_module_version": "1.5.0",
          "state": {
            "_dom_classes": [],
            "_model_module": "@jupyter-widgets/controls",
            "_model_module_version": "1.5.0",
            "_model_name": "HTMLModel",
            "_view_count": null,
            "_view_module": "@jupyter-widgets/controls",
            "_view_module_version": "1.5.0",
            "_view_name": "HTMLView",
            "description": "",
            "description_tooltip": null,
            "layout": "IPY_MODEL_5be70965a58a4ea8b0aec3afcb2f9a95",
            "placeholder": "​",
            "style": "IPY_MODEL_5b594477eab64dd48bb7833d809e7b67",
            "value": "Downloading (…)lve/main/config.json: 100%"
          }
        },
        "acb29b35b0714a17af0f0c54e56e893e": {
          "model_module": "@jupyter-widgets/controls",
          "model_name": "FloatProgressModel",
          "model_module_version": "1.5.0",
          "state": {
            "_dom_classes": [],
            "_model_module": "@jupyter-widgets/controls",
            "_model_module_version": "1.5.0",
            "_model_name": "FloatProgressModel",
            "_view_count": null,
            "_view_module": "@jupyter-widgets/controls",
            "_view_module_version": "1.5.0",
            "_view_name": "ProgressView",
            "bar_style": "success",
            "description": "",
            "description_tooltip": null,
            "layout": "IPY_MODEL_68d1940aff15434188c98fd91fe44700",
            "max": 642,
            "min": 0,
            "orientation": "horizontal",
            "style": "IPY_MODEL_a1d3e32cc4e5435b8d1191c88fcc0d77",
            "value": 642
          }
        },
        "0ee0a75973f54f2cb8cddbe321473980": {
          "model_module": "@jupyter-widgets/controls",
          "model_name": "HTMLModel",
          "model_module_version": "1.5.0",
          "state": {
            "_dom_classes": [],
            "_model_module": "@jupyter-widgets/controls",
            "_model_module_version": "1.5.0",
            "_model_name": "HTMLModel",
            "_view_count": null,
            "_view_module": "@jupyter-widgets/controls",
            "_view_module_version": "1.5.0",
            "_view_name": "HTMLView",
            "description": "",
            "description_tooltip": null,
            "layout": "IPY_MODEL_a30ab2b5744d4aabbdc325f02db26fd2",
            "placeholder": "​",
            "style": "IPY_MODEL_1c7997b3c5464c2ea88c863d8e7418a5",
            "value": " 642/642 [00:00&lt;00:00, 12.5kB/s]"
          }
        },
        "c4fe9277546c4db3aefaa24c9319fe15": {
          "model_module": "@jupyter-widgets/base",
          "model_name": "LayoutModel",
          "model_module_version": "1.2.0",
          "state": {
            "_model_module": "@jupyter-widgets/base",
            "_model_module_version": "1.2.0",
            "_model_name": "LayoutModel",
            "_view_count": null,
            "_view_module": "@jupyter-widgets/base",
            "_view_module_version": "1.2.0",
            "_view_name": "LayoutView",
            "align_content": null,
            "align_items": null,
            "align_self": null,
            "border": null,
            "bottom": null,
            "display": null,
            "flex": null,
            "flex_flow": null,
            "grid_area": null,
            "grid_auto_columns": null,
            "grid_auto_flow": null,
            "grid_auto_rows": null,
            "grid_column": null,
            "grid_gap": null,
            "grid_row": null,
            "grid_template_areas": null,
            "grid_template_columns": null,
            "grid_template_rows": null,
            "height": null,
            "justify_content": null,
            "justify_items": null,
            "left": null,
            "margin": null,
            "max_height": null,
            "max_width": null,
            "min_height": null,
            "min_width": null,
            "object_fit": null,
            "object_position": null,
            "order": null,
            "overflow": null,
            "overflow_x": null,
            "overflow_y": null,
            "padding": null,
            "right": null,
            "top": null,
            "visibility": null,
            "width": null
          }
        },
        "5be70965a58a4ea8b0aec3afcb2f9a95": {
          "model_module": "@jupyter-widgets/base",
          "model_name": "LayoutModel",
          "model_module_version": "1.2.0",
          "state": {
            "_model_module": "@jupyter-widgets/base",
            "_model_module_version": "1.2.0",
            "_model_name": "LayoutModel",
            "_view_count": null,
            "_view_module": "@jupyter-widgets/base",
            "_view_module_version": "1.2.0",
            "_view_name": "LayoutView",
            "align_content": null,
            "align_items": null,
            "align_self": null,
            "border": null,
            "bottom": null,
            "display": null,
            "flex": null,
            "flex_flow": null,
            "grid_area": null,
            "grid_auto_columns": null,
            "grid_auto_flow": null,
            "grid_auto_rows": null,
            "grid_column": null,
            "grid_gap": null,
            "grid_row": null,
            "grid_template_areas": null,
            "grid_template_columns": null,
            "grid_template_rows": null,
            "height": null,
            "justify_content": null,
            "justify_items": null,
            "left": null,
            "margin": null,
            "max_height": null,
            "max_width": null,
            "min_height": null,
            "min_width": null,
            "object_fit": null,
            "object_position": null,
            "order": null,
            "overflow": null,
            "overflow_x": null,
            "overflow_y": null,
            "padding": null,
            "right": null,
            "top": null,
            "visibility": null,
            "width": null
          }
        },
        "5b594477eab64dd48bb7833d809e7b67": {
          "model_module": "@jupyter-widgets/controls",
          "model_name": "DescriptionStyleModel",
          "model_module_version": "1.5.0",
          "state": {
            "_model_module": "@jupyter-widgets/controls",
            "_model_module_version": "1.5.0",
            "_model_name": "DescriptionStyleModel",
            "_view_count": null,
            "_view_module": "@jupyter-widgets/base",
            "_view_module_version": "1.2.0",
            "_view_name": "StyleView",
            "description_width": ""
          }
        },
        "68d1940aff15434188c98fd91fe44700": {
          "model_module": "@jupyter-widgets/base",
          "model_name": "LayoutModel",
          "model_module_version": "1.2.0",
          "state": {
            "_model_module": "@jupyter-widgets/base",
            "_model_module_version": "1.2.0",
            "_model_name": "LayoutModel",
            "_view_count": null,
            "_view_module": "@jupyter-widgets/base",
            "_view_module_version": "1.2.0",
            "_view_name": "LayoutView",
            "align_content": null,
            "align_items": null,
            "align_self": null,
            "border": null,
            "bottom": null,
            "display": null,
            "flex": null,
            "flex_flow": null,
            "grid_area": null,
            "grid_auto_columns": null,
            "grid_auto_flow": null,
            "grid_auto_rows": null,
            "grid_column": null,
            "grid_gap": null,
            "grid_row": null,
            "grid_template_areas": null,
            "grid_template_columns": null,
            "grid_template_rows": null,
            "height": null,
            "justify_content": null,
            "justify_items": null,
            "left": null,
            "margin": null,
            "max_height": null,
            "max_width": null,
            "min_height": null,
            "min_width": null,
            "object_fit": null,
            "object_position": null,
            "order": null,
            "overflow": null,
            "overflow_x": null,
            "overflow_y": null,
            "padding": null,
            "right": null,
            "top": null,
            "visibility": null,
            "width": null
          }
        },
        "a1d3e32cc4e5435b8d1191c88fcc0d77": {
          "model_module": "@jupyter-widgets/controls",
          "model_name": "ProgressStyleModel",
          "model_module_version": "1.5.0",
          "state": {
            "_model_module": "@jupyter-widgets/controls",
            "_model_module_version": "1.5.0",
            "_model_name": "ProgressStyleModel",
            "_view_count": null,
            "_view_module": "@jupyter-widgets/base",
            "_view_module_version": "1.2.0",
            "_view_name": "StyleView",
            "bar_color": null,
            "description_width": ""
          }
        },
        "a30ab2b5744d4aabbdc325f02db26fd2": {
          "model_module": "@jupyter-widgets/base",
          "model_name": "LayoutModel",
          "model_module_version": "1.2.0",
          "state": {
            "_model_module": "@jupyter-widgets/base",
            "_model_module_version": "1.2.0",
            "_model_name": "LayoutModel",
            "_view_count": null,
            "_view_module": "@jupyter-widgets/base",
            "_view_module_version": "1.2.0",
            "_view_name": "LayoutView",
            "align_content": null,
            "align_items": null,
            "align_self": null,
            "border": null,
            "bottom": null,
            "display": null,
            "flex": null,
            "flex_flow": null,
            "grid_area": null,
            "grid_auto_columns": null,
            "grid_auto_flow": null,
            "grid_auto_rows": null,
            "grid_column": null,
            "grid_gap": null,
            "grid_row": null,
            "grid_template_areas": null,
            "grid_template_columns": null,
            "grid_template_rows": null,
            "height": null,
            "justify_content": null,
            "justify_items": null,
            "left": null,
            "margin": null,
            "max_height": null,
            "max_width": null,
            "min_height": null,
            "min_width": null,
            "object_fit": null,
            "object_position": null,
            "order": null,
            "overflow": null,
            "overflow_x": null,
            "overflow_y": null,
            "padding": null,
            "right": null,
            "top": null,
            "visibility": null,
            "width": null
          }
        },
        "1c7997b3c5464c2ea88c863d8e7418a5": {
          "model_module": "@jupyter-widgets/controls",
          "model_name": "DescriptionStyleModel",
          "model_module_version": "1.5.0",
          "state": {
            "_model_module": "@jupyter-widgets/controls",
            "_model_module_version": "1.5.0",
            "_model_name": "DescriptionStyleModel",
            "_view_count": null,
            "_view_module": "@jupyter-widgets/base",
            "_view_module_version": "1.2.0",
            "_view_name": "StyleView",
            "description_width": ""
          }
        },
        "22f91f4a4dfa45ebad860bbe79b3c99f": {
          "model_module": "@jupyter-widgets/controls",
          "model_name": "HBoxModel",
          "model_module_version": "1.5.0",
          "state": {
            "_dom_classes": [],
            "_model_module": "@jupyter-widgets/controls",
            "_model_module_version": "1.5.0",
            "_model_name": "HBoxModel",
            "_view_count": null,
            "_view_module": "@jupyter-widgets/controls",
            "_view_module_version": "1.5.0",
            "_view_name": "HBoxView",
            "box_style": "",
            "children": [
              "IPY_MODEL_4ef2b7e1d7324bad8c2f851c4bb9953e",
              "IPY_MODEL_3a0d722073d940869cad6850759cbf32",
              "IPY_MODEL_7d3426cc82624fa284a54233da291a67"
            ],
            "layout": "IPY_MODEL_960f9509638f4bb498b26209ee280746"
          }
        },
        "4ef2b7e1d7324bad8c2f851c4bb9953e": {
          "model_module": "@jupyter-widgets/controls",
          "model_name": "HTMLModel",
          "model_module_version": "1.5.0",
          "state": {
            "_dom_classes": [],
            "_model_module": "@jupyter-widgets/controls",
            "_model_module_version": "1.5.0",
            "_model_name": "HTMLModel",
            "_view_count": null,
            "_view_module": "@jupyter-widgets/controls",
            "_view_module_version": "1.5.0",
            "_view_name": "HTMLView",
            "description": "",
            "description_tooltip": null,
            "layout": "IPY_MODEL_9fbfd4dff30745bfa9a4201aca0600e8",
            "placeholder": "​",
            "style": "IPY_MODEL_f3043272ee49447ea51ca400dc70a184",
            "value": "Downloading (…)&quot;pytorch_model.bin&quot;;: 100%"
          }
        },
        "3a0d722073d940869cad6850759cbf32": {
          "model_module": "@jupyter-widgets/controls",
          "model_name": "FloatProgressModel",
          "model_module_version": "1.5.0",
          "state": {
            "_dom_classes": [],
            "_model_module": "@jupyter-widgets/controls",
            "_model_module_version": "1.5.0",
            "_model_name": "FloatProgressModel",
            "_view_count": null,
            "_view_module": "@jupyter-widgets/controls",
            "_view_module_version": "1.5.0",
            "_view_name": "ProgressView",
            "bar_style": "success",
            "description": "",
            "description_tooltip": null,
            "layout": "IPY_MODEL_9f85e178596e4819bcd74a502c7f72fd",
            "max": 4918584617,
            "min": 0,
            "orientation": "horizontal",
            "style": "IPY_MODEL_b4263850a8d14ab996ca4c45448ee7fb",
            "value": 4918584617
          }
        },
        "7d3426cc82624fa284a54233da291a67": {
          "model_module": "@jupyter-widgets/controls",
          "model_name": "HTMLModel",
          "model_module_version": "1.5.0",
          "state": {
            "_dom_classes": [],
            "_model_module": "@jupyter-widgets/controls",
            "_model_module_version": "1.5.0",
            "_model_name": "HTMLModel",
            "_view_count": null,
            "_view_module": "@jupyter-widgets/controls",
            "_view_module_version": "1.5.0",
            "_view_name": "HTMLView",
            "description": "",
            "description_tooltip": null,
            "layout": "IPY_MODEL_6a425d91748e4ef2873692f44f37fe42",
            "placeholder": "​",
            "style": "IPY_MODEL_79be5b3bd97a482cb2d4fd795347236e",
            "value": " 4.92G/4.92G [01:15&lt;00:00, 62.8MB/s]"
          }
        },
        "960f9509638f4bb498b26209ee280746": {
          "model_module": "@jupyter-widgets/base",
          "model_name": "LayoutModel",
          "model_module_version": "1.2.0",
          "state": {
            "_model_module": "@jupyter-widgets/base",
            "_model_module_version": "1.2.0",
            "_model_name": "LayoutModel",
            "_view_count": null,
            "_view_module": "@jupyter-widgets/base",
            "_view_module_version": "1.2.0",
            "_view_name": "LayoutView",
            "align_content": null,
            "align_items": null,
            "align_self": null,
            "border": null,
            "bottom": null,
            "display": null,
            "flex": null,
            "flex_flow": null,
            "grid_area": null,
            "grid_auto_columns": null,
            "grid_auto_flow": null,
            "grid_auto_rows": null,
            "grid_column": null,
            "grid_gap": null,
            "grid_row": null,
            "grid_template_areas": null,
            "grid_template_columns": null,
            "grid_template_rows": null,
            "height": null,
            "justify_content": null,
            "justify_items": null,
            "left": null,
            "margin": null,
            "max_height": null,
            "max_width": null,
            "min_height": null,
            "min_width": null,
            "object_fit": null,
            "object_position": null,
            "order": null,
            "overflow": null,
            "overflow_x": null,
            "overflow_y": null,
            "padding": null,
            "right": null,
            "top": null,
            "visibility": null,
            "width": null
          }
        },
        "9fbfd4dff30745bfa9a4201aca0600e8": {
          "model_module": "@jupyter-widgets/base",
          "model_name": "LayoutModel",
          "model_module_version": "1.2.0",
          "state": {
            "_model_module": "@jupyter-widgets/base",
            "_model_module_version": "1.2.0",
            "_model_name": "LayoutModel",
            "_view_count": null,
            "_view_module": "@jupyter-widgets/base",
            "_view_module_version": "1.2.0",
            "_view_name": "LayoutView",
            "align_content": null,
            "align_items": null,
            "align_self": null,
            "border": null,
            "bottom": null,
            "display": null,
            "flex": null,
            "flex_flow": null,
            "grid_area": null,
            "grid_auto_columns": null,
            "grid_auto_flow": null,
            "grid_auto_rows": null,
            "grid_column": null,
            "grid_gap": null,
            "grid_row": null,
            "grid_template_areas": null,
            "grid_template_columns": null,
            "grid_template_rows": null,
            "height": null,
            "justify_content": null,
            "justify_items": null,
            "left": null,
            "margin": null,
            "max_height": null,
            "max_width": null,
            "min_height": null,
            "min_width": null,
            "object_fit": null,
            "object_position": null,
            "order": null,
            "overflow": null,
            "overflow_x": null,
            "overflow_y": null,
            "padding": null,
            "right": null,
            "top": null,
            "visibility": null,
            "width": null
          }
        },
        "f3043272ee49447ea51ca400dc70a184": {
          "model_module": "@jupyter-widgets/controls",
          "model_name": "DescriptionStyleModel",
          "model_module_version": "1.5.0",
          "state": {
            "_model_module": "@jupyter-widgets/controls",
            "_model_module_version": "1.5.0",
            "_model_name": "DescriptionStyleModel",
            "_view_count": null,
            "_view_module": "@jupyter-widgets/base",
            "_view_module_version": "1.2.0",
            "_view_name": "StyleView",
            "description_width": ""
          }
        },
        "9f85e178596e4819bcd74a502c7f72fd": {
          "model_module": "@jupyter-widgets/base",
          "model_name": "LayoutModel",
          "model_module_version": "1.2.0",
          "state": {
            "_model_module": "@jupyter-widgets/base",
            "_model_module_version": "1.2.0",
            "_model_name": "LayoutModel",
            "_view_count": null,
            "_view_module": "@jupyter-widgets/base",
            "_view_module_version": "1.2.0",
            "_view_name": "LayoutView",
            "align_content": null,
            "align_items": null,
            "align_self": null,
            "border": null,
            "bottom": null,
            "display": null,
            "flex": null,
            "flex_flow": null,
            "grid_area": null,
            "grid_auto_columns": null,
            "grid_auto_flow": null,
            "grid_auto_rows": null,
            "grid_column": null,
            "grid_gap": null,
            "grid_row": null,
            "grid_template_areas": null,
            "grid_template_columns": null,
            "grid_template_rows": null,
            "height": null,
            "justify_content": null,
            "justify_items": null,
            "left": null,
            "margin": null,
            "max_height": null,
            "max_width": null,
            "min_height": null,
            "min_width": null,
            "object_fit": null,
            "object_position": null,
            "order": null,
            "overflow": null,
            "overflow_x": null,
            "overflow_y": null,
            "padding": null,
            "right": null,
            "top": null,
            "visibility": null,
            "width": null
          }
        },
        "b4263850a8d14ab996ca4c45448ee7fb": {
          "model_module": "@jupyter-widgets/controls",
          "model_name": "ProgressStyleModel",
          "model_module_version": "1.5.0",
          "state": {
            "_model_module": "@jupyter-widgets/controls",
            "_model_module_version": "1.5.0",
            "_model_name": "ProgressStyleModel",
            "_view_count": null,
            "_view_module": "@jupyter-widgets/base",
            "_view_module_version": "1.2.0",
            "_view_name": "StyleView",
            "bar_color": null,
            "description_width": ""
          }
        },
        "6a425d91748e4ef2873692f44f37fe42": {
          "model_module": "@jupyter-widgets/base",
          "model_name": "LayoutModel",
          "model_module_version": "1.2.0",
          "state": {
            "_model_module": "@jupyter-widgets/base",
            "_model_module_version": "1.2.0",
            "_model_name": "LayoutModel",
            "_view_count": null,
            "_view_module": "@jupyter-widgets/base",
            "_view_module_version": "1.2.0",
            "_view_name": "LayoutView",
            "align_content": null,
            "align_items": null,
            "align_self": null,
            "border": null,
            "bottom": null,
            "display": null,
            "flex": null,
            "flex_flow": null,
            "grid_area": null,
            "grid_auto_columns": null,
            "grid_auto_flow": null,
            "grid_auto_rows": null,
            "grid_column": null,
            "grid_gap": null,
            "grid_row": null,
            "grid_template_areas": null,
            "grid_template_columns": null,
            "grid_template_rows": null,
            "height": null,
            "justify_content": null,
            "justify_items": null,
            "left": null,
            "margin": null,
            "max_height": null,
            "max_width": null,
            "min_height": null,
            "min_width": null,
            "object_fit": null,
            "object_position": null,
            "order": null,
            "overflow": null,
            "overflow_x": null,
            "overflow_y": null,
            "padding": null,
            "right": null,
            "top": null,
            "visibility": null,
            "width": null
          }
        },
        "79be5b3bd97a482cb2d4fd795347236e": {
          "model_module": "@jupyter-widgets/controls",
          "model_name": "DescriptionStyleModel",
          "model_module_version": "1.5.0",
          "state": {
            "_model_module": "@jupyter-widgets/controls",
            "_model_module_version": "1.5.0",
            "_model_name": "DescriptionStyleModel",
            "_view_count": null,
            "_view_module": "@jupyter-widgets/base",
            "_view_module_version": "1.2.0",
            "_view_name": "StyleView",
            "description_width": ""
          }
        },
        "dc7b912f8af24b8696c152aa0a380abb": {
          "model_module": "@jupyter-widgets/controls",
          "model_name": "HBoxModel",
          "model_module_version": "1.5.0",
          "state": {
            "_dom_classes": [],
            "_model_module": "@jupyter-widgets/controls",
            "_model_module_version": "1.5.0",
            "_model_name": "HBoxModel",
            "_view_count": null,
            "_view_module": "@jupyter-widgets/controls",
            "_view_module_version": "1.5.0",
            "_view_name": "HBoxView",
            "box_style": "",
            "children": [
              "IPY_MODEL_ede0e73d5b3c4b0482fac262dae9dbe5",
              "IPY_MODEL_454432d3a10d43879737ec51904cd748",
              "IPY_MODEL_932824eb9ec741f3bbb2642d3afa340c"
            ],
            "layout": "IPY_MODEL_37db8416fb9a4d3584d34269ee052c3e"
          }
        },
        "ede0e73d5b3c4b0482fac262dae9dbe5": {
          "model_module": "@jupyter-widgets/controls",
          "model_name": "HTMLModel",
          "model_module_version": "1.5.0",
          "state": {
            "_dom_classes": [],
            "_model_module": "@jupyter-widgets/controls",
            "_model_module_version": "1.5.0",
            "_model_name": "HTMLModel",
            "_view_count": null,
            "_view_module": "@jupyter-widgets/controls",
            "_view_module_version": "1.5.0",
            "_view_name": "HTMLView",
            "description": "",
            "description_tooltip": null,
            "layout": "IPY_MODEL_768a5652eea2483daaab14c0b71f6697",
            "placeholder": "​",
            "style": "IPY_MODEL_74ed3aff0de34b0a984f51b240e63073",
            "value": "Downloading (…)neration_config.json: 100%"
          }
        },
        "454432d3a10d43879737ec51904cd748": {
          "model_module": "@jupyter-widgets/controls",
          "model_name": "FloatProgressModel",
          "model_module_version": "1.5.0",
          "state": {
            "_dom_classes": [],
            "_model_module": "@jupyter-widgets/controls",
            "_model_module_version": "1.5.0",
            "_model_name": "FloatProgressModel",
            "_view_count": null,
            "_view_module": "@jupyter-widgets/controls",
            "_view_module_version": "1.5.0",
            "_view_name": "ProgressView",
            "bar_style": "success",
            "description": "",
            "description_tooltip": null,
            "layout": "IPY_MODEL_bcbecba99a4d4dacb4493f174c024e86",
            "max": 147,
            "min": 0,
            "orientation": "horizontal",
            "style": "IPY_MODEL_20c911e4a4e846508011c7a0f69d7d2e",
            "value": 147
          }
        },
        "932824eb9ec741f3bbb2642d3afa340c": {
          "model_module": "@jupyter-widgets/controls",
          "model_name": "HTMLModel",
          "model_module_version": "1.5.0",
          "state": {
            "_dom_classes": [],
            "_model_module": "@jupyter-widgets/controls",
            "_model_module_version": "1.5.0",
            "_model_name": "HTMLModel",
            "_view_count": null,
            "_view_module": "@jupyter-widgets/controls",
            "_view_module_version": "1.5.0",
            "_view_name": "HTMLView",
            "description": "",
            "description_tooltip": null,
            "layout": "IPY_MODEL_688d48a4ee374792a0c951531f2933cf",
            "placeholder": "​",
            "style": "IPY_MODEL_772410ec4a584ea2b12b2073daf5e5af",
            "value": " 147/147 [00:00&lt;00:00, 2.48kB/s]"
          }
        },
        "37db8416fb9a4d3584d34269ee052c3e": {
          "model_module": "@jupyter-widgets/base",
          "model_name": "LayoutModel",
          "model_module_version": "1.2.0",
          "state": {
            "_model_module": "@jupyter-widgets/base",
            "_model_module_version": "1.2.0",
            "_model_name": "LayoutModel",
            "_view_count": null,
            "_view_module": "@jupyter-widgets/base",
            "_view_module_version": "1.2.0",
            "_view_name": "LayoutView",
            "align_content": null,
            "align_items": null,
            "align_self": null,
            "border": null,
            "bottom": null,
            "display": null,
            "flex": null,
            "flex_flow": null,
            "grid_area": null,
            "grid_auto_columns": null,
            "grid_auto_flow": null,
            "grid_auto_rows": null,
            "grid_column": null,
            "grid_gap": null,
            "grid_row": null,
            "grid_template_areas": null,
            "grid_template_columns": null,
            "grid_template_rows": null,
            "height": null,
            "justify_content": null,
            "justify_items": null,
            "left": null,
            "margin": null,
            "max_height": null,
            "max_width": null,
            "min_height": null,
            "min_width": null,
            "object_fit": null,
            "object_position": null,
            "order": null,
            "overflow": null,
            "overflow_x": null,
            "overflow_y": null,
            "padding": null,
            "right": null,
            "top": null,
            "visibility": null,
            "width": null
          }
        },
        "768a5652eea2483daaab14c0b71f6697": {
          "model_module": "@jupyter-widgets/base",
          "model_name": "LayoutModel",
          "model_module_version": "1.2.0",
          "state": {
            "_model_module": "@jupyter-widgets/base",
            "_model_module_version": "1.2.0",
            "_model_name": "LayoutModel",
            "_view_count": null,
            "_view_module": "@jupyter-widgets/base",
            "_view_module_version": "1.2.0",
            "_view_name": "LayoutView",
            "align_content": null,
            "align_items": null,
            "align_self": null,
            "border": null,
            "bottom": null,
            "display": null,
            "flex": null,
            "flex_flow": null,
            "grid_area": null,
            "grid_auto_columns": null,
            "grid_auto_flow": null,
            "grid_auto_rows": null,
            "grid_column": null,
            "grid_gap": null,
            "grid_row": null,
            "grid_template_areas": null,
            "grid_template_columns": null,
            "grid_template_rows": null,
            "height": null,
            "justify_content": null,
            "justify_items": null,
            "left": null,
            "margin": null,
            "max_height": null,
            "max_width": null,
            "min_height": null,
            "min_width": null,
            "object_fit": null,
            "object_position": null,
            "order": null,
            "overflow": null,
            "overflow_x": null,
            "overflow_y": null,
            "padding": null,
            "right": null,
            "top": null,
            "visibility": null,
            "width": null
          }
        },
        "74ed3aff0de34b0a984f51b240e63073": {
          "model_module": "@jupyter-widgets/controls",
          "model_name": "DescriptionStyleModel",
          "model_module_version": "1.5.0",
          "state": {
            "_model_module": "@jupyter-widgets/controls",
            "_model_module_version": "1.5.0",
            "_model_name": "DescriptionStyleModel",
            "_view_count": null,
            "_view_module": "@jupyter-widgets/base",
            "_view_module_version": "1.2.0",
            "_view_name": "StyleView",
            "description_width": ""
          }
        },
        "bcbecba99a4d4dacb4493f174c024e86": {
          "model_module": "@jupyter-widgets/base",
          "model_name": "LayoutModel",
          "model_module_version": "1.2.0",
          "state": {
            "_model_module": "@jupyter-widgets/base",
            "_model_module_version": "1.2.0",
            "_model_name": "LayoutModel",
            "_view_count": null,
            "_view_module": "@jupyter-widgets/base",
            "_view_module_version": "1.2.0",
            "_view_name": "LayoutView",
            "align_content": null,
            "align_items": null,
            "align_self": null,
            "border": null,
            "bottom": null,
            "display": null,
            "flex": null,
            "flex_flow": null,
            "grid_area": null,
            "grid_auto_columns": null,
            "grid_auto_flow": null,
            "grid_auto_rows": null,
            "grid_column": null,
            "grid_gap": null,
            "grid_row": null,
            "grid_template_areas": null,
            "grid_template_columns": null,
            "grid_template_rows": null,
            "height": null,
            "justify_content": null,
            "justify_items": null,
            "left": null,
            "margin": null,
            "max_height": null,
            "max_width": null,
            "min_height": null,
            "min_width": null,
            "object_fit": null,
            "object_position": null,
            "order": null,
            "overflow": null,
            "overflow_x": null,
            "overflow_y": null,
            "padding": null,
            "right": null,
            "top": null,
            "visibility": null,
            "width": null
          }
        },
        "20c911e4a4e846508011c7a0f69d7d2e": {
          "model_module": "@jupyter-widgets/controls",
          "model_name": "ProgressStyleModel",
          "model_module_version": "1.5.0",
          "state": {
            "_model_module": "@jupyter-widgets/controls",
            "_model_module_version": "1.5.0",
            "_model_name": "ProgressStyleModel",
            "_view_count": null,
            "_view_module": "@jupyter-widgets/base",
            "_view_module_version": "1.2.0",
            "_view_name": "StyleView",
            "bar_color": null,
            "description_width": ""
          }
        },
        "688d48a4ee374792a0c951531f2933cf": {
          "model_module": "@jupyter-widgets/base",
          "model_name": "LayoutModel",
          "model_module_version": "1.2.0",
          "state": {
            "_model_module": "@jupyter-widgets/base",
            "_model_module_version": "1.2.0",
            "_model_name": "LayoutModel",
            "_view_count": null,
            "_view_module": "@jupyter-widgets/base",
            "_view_module_version": "1.2.0",
            "_view_name": "LayoutView",
            "align_content": null,
            "align_items": null,
            "align_self": null,
            "border": null,
            "bottom": null,
            "display": null,
            "flex": null,
            "flex_flow": null,
            "grid_area": null,
            "grid_auto_columns": null,
            "grid_auto_flow": null,
            "grid_auto_rows": null,
            "grid_column": null,
            "grid_gap": null,
            "grid_row": null,
            "grid_template_areas": null,
            "grid_template_columns": null,
            "grid_template_rows": null,
            "height": null,
            "justify_content": null,
            "justify_items": null,
            "left": null,
            "margin": null,
            "max_height": null,
            "max_width": null,
            "min_height": null,
            "min_width": null,
            "object_fit": null,
            "object_position": null,
            "order": null,
            "overflow": null,
            "overflow_x": null,
            "overflow_y": null,
            "padding": null,
            "right": null,
            "top": null,
            "visibility": null,
            "width": null
          }
        },
        "772410ec4a584ea2b12b2073daf5e5af": {
          "model_module": "@jupyter-widgets/controls",
          "model_name": "DescriptionStyleModel",
          "model_module_version": "1.5.0",
          "state": {
            "_model_module": "@jupyter-widgets/controls",
            "_model_module_version": "1.5.0",
            "_model_name": "DescriptionStyleModel",
            "_view_count": null,
            "_view_module": "@jupyter-widgets/base",
            "_view_module_version": "1.2.0",
            "_view_name": "StyleView",
            "description_width": ""
          }
        },
        "cb733391c2424a43820fee03100ab5d3": {
          "model_module": "@jupyter-widgets/controls",
          "model_name": "HBoxModel",
          "model_module_version": "1.5.0",
          "state": {
            "_dom_classes": [],
            "_model_module": "@jupyter-widgets/controls",
            "_model_module_version": "1.5.0",
            "_model_name": "HBoxModel",
            "_view_count": null,
            "_view_module": "@jupyter-widgets/controls",
            "_view_module_version": "1.5.0",
            "_view_name": "HBoxView",
            "box_style": "",
            "children": [
              "IPY_MODEL_a2f08a2bd52b4f72bc2212b3440e9f54",
              "IPY_MODEL_91a2d7fbd6844019b4d8aa82156b61b4",
              "IPY_MODEL_86857ffd1dea4851b6daf66b016a353b"
            ],
            "layout": "IPY_MODEL_cecbf5468eaa49f6a1da577247f41c66"
          }
        },
        "a2f08a2bd52b4f72bc2212b3440e9f54": {
          "model_module": "@jupyter-widgets/controls",
          "model_name": "HTMLModel",
          "model_module_version": "1.5.0",
          "state": {
            "_dom_classes": [],
            "_model_module": "@jupyter-widgets/controls",
            "_model_module_version": "1.5.0",
            "_model_name": "HTMLModel",
            "_view_count": null,
            "_view_module": "@jupyter-widgets/controls",
            "_view_module_version": "1.5.0",
            "_view_name": "HTMLView",
            "description": "",
            "description_tooltip": null,
            "layout": "IPY_MODEL_3e9ffa2a7f324e4a9960dc4aa8b94d76",
            "placeholder": "​",
            "style": "IPY_MODEL_18f71a9794d44f30ae835457f663b12f",
            "value": "100%"
          }
        },
        "91a2d7fbd6844019b4d8aa82156b61b4": {
          "model_module": "@jupyter-widgets/controls",
          "model_name": "FloatProgressModel",
          "model_module_version": "1.5.0",
          "state": {
            "_dom_classes": [],
            "_model_module": "@jupyter-widgets/controls",
            "_model_module_version": "1.5.0",
            "_model_name": "FloatProgressModel",
            "_view_count": null,
            "_view_module": "@jupyter-widgets/controls",
            "_view_module_version": "1.5.0",
            "_view_name": "ProgressView",
            "bar_style": "success",
            "description": "",
            "description_tooltip": null,
            "layout": "IPY_MODEL_71a39c9db4bc4bb9a7a3bf4ba79eb90e",
            "max": 10000,
            "min": 0,
            "orientation": "horizontal",
            "style": "IPY_MODEL_af24cffcbc6949a4877505486fea0940",
            "value": 10000
          }
        },
        "86857ffd1dea4851b6daf66b016a353b": {
          "model_module": "@jupyter-widgets/controls",
          "model_name": "HTMLModel",
          "model_module_version": "1.5.0",
          "state": {
            "_dom_classes": [],
            "_model_module": "@jupyter-widgets/controls",
            "_model_module_version": "1.5.0",
            "_model_name": "HTMLModel",
            "_view_count": null,
            "_view_module": "@jupyter-widgets/controls",
            "_view_module_version": "1.5.0",
            "_view_name": "HTMLView",
            "description": "",
            "description_tooltip": null,
            "layout": "IPY_MODEL_b365518110a54c578018b232de99def6",
            "placeholder": "​",
            "style": "IPY_MODEL_68cc0ee5da4f43d5803ef2f08e564057",
            "value": " 10000/10000 [00:03&lt;00:00, 4050.18it/s]"
          }
        },
        "cecbf5468eaa49f6a1da577247f41c66": {
          "model_module": "@jupyter-widgets/base",
          "model_name": "LayoutModel",
          "model_module_version": "1.2.0",
          "state": {
            "_model_module": "@jupyter-widgets/base",
            "_model_module_version": "1.2.0",
            "_model_name": "LayoutModel",
            "_view_count": null,
            "_view_module": "@jupyter-widgets/base",
            "_view_module_version": "1.2.0",
            "_view_name": "LayoutView",
            "align_content": null,
            "align_items": null,
            "align_self": null,
            "border": null,
            "bottom": null,
            "display": null,
            "flex": null,
            "flex_flow": null,
            "grid_area": null,
            "grid_auto_columns": null,
            "grid_auto_flow": null,
            "grid_auto_rows": null,
            "grid_column": null,
            "grid_gap": null,
            "grid_row": null,
            "grid_template_areas": null,
            "grid_template_columns": null,
            "grid_template_rows": null,
            "height": null,
            "justify_content": null,
            "justify_items": null,
            "left": null,
            "margin": null,
            "max_height": null,
            "max_width": null,
            "min_height": null,
            "min_width": null,
            "object_fit": null,
            "object_position": null,
            "order": null,
            "overflow": null,
            "overflow_x": null,
            "overflow_y": null,
            "padding": null,
            "right": null,
            "top": null,
            "visibility": null,
            "width": null
          }
        },
        "3e9ffa2a7f324e4a9960dc4aa8b94d76": {
          "model_module": "@jupyter-widgets/base",
          "model_name": "LayoutModel",
          "model_module_version": "1.2.0",
          "state": {
            "_model_module": "@jupyter-widgets/base",
            "_model_module_version": "1.2.0",
            "_model_name": "LayoutModel",
            "_view_count": null,
            "_view_module": "@jupyter-widgets/base",
            "_view_module_version": "1.2.0",
            "_view_name": "LayoutView",
            "align_content": null,
            "align_items": null,
            "align_self": null,
            "border": null,
            "bottom": null,
            "display": null,
            "flex": null,
            "flex_flow": null,
            "grid_area": null,
            "grid_auto_columns": null,
            "grid_auto_flow": null,
            "grid_auto_rows": null,
            "grid_column": null,
            "grid_gap": null,
            "grid_row": null,
            "grid_template_areas": null,
            "grid_template_columns": null,
            "grid_template_rows": null,
            "height": null,
            "justify_content": null,
            "justify_items": null,
            "left": null,
            "margin": null,
            "max_height": null,
            "max_width": null,
            "min_height": null,
            "min_width": null,
            "object_fit": null,
            "object_position": null,
            "order": null,
            "overflow": null,
            "overflow_x": null,
            "overflow_y": null,
            "padding": null,
            "right": null,
            "top": null,
            "visibility": null,
            "width": null
          }
        },
        "18f71a9794d44f30ae835457f663b12f": {
          "model_module": "@jupyter-widgets/controls",
          "model_name": "DescriptionStyleModel",
          "model_module_version": "1.5.0",
          "state": {
            "_model_module": "@jupyter-widgets/controls",
            "_model_module_version": "1.5.0",
            "_model_name": "DescriptionStyleModel",
            "_view_count": null,
            "_view_module": "@jupyter-widgets/base",
            "_view_module_version": "1.2.0",
            "_view_name": "StyleView",
            "description_width": ""
          }
        },
        "71a39c9db4bc4bb9a7a3bf4ba79eb90e": {
          "model_module": "@jupyter-widgets/base",
          "model_name": "LayoutModel",
          "model_module_version": "1.2.0",
          "state": {
            "_model_module": "@jupyter-widgets/base",
            "_model_module_version": "1.2.0",
            "_model_name": "LayoutModel",
            "_view_count": null,
            "_view_module": "@jupyter-widgets/base",
            "_view_module_version": "1.2.0",
            "_view_name": "LayoutView",
            "align_content": null,
            "align_items": null,
            "align_self": null,
            "border": null,
            "bottom": null,
            "display": null,
            "flex": null,
            "flex_flow": null,
            "grid_area": null,
            "grid_auto_columns": null,
            "grid_auto_flow": null,
            "grid_auto_rows": null,
            "grid_column": null,
            "grid_gap": null,
            "grid_row": null,
            "grid_template_areas": null,
            "grid_template_columns": null,
            "grid_template_rows": null,
            "height": null,
            "justify_content": null,
            "justify_items": null,
            "left": null,
            "margin": null,
            "max_height": null,
            "max_width": null,
            "min_height": null,
            "min_width": null,
            "object_fit": null,
            "object_position": null,
            "order": null,
            "overflow": null,
            "overflow_x": null,
            "overflow_y": null,
            "padding": null,
            "right": null,
            "top": null,
            "visibility": null,
            "width": null
          }
        },
        "af24cffcbc6949a4877505486fea0940": {
          "model_module": "@jupyter-widgets/controls",
          "model_name": "ProgressStyleModel",
          "model_module_version": "1.5.0",
          "state": {
            "_model_module": "@jupyter-widgets/controls",
            "_model_module_version": "1.5.0",
            "_model_name": "ProgressStyleModel",
            "_view_count": null,
            "_view_module": "@jupyter-widgets/base",
            "_view_module_version": "1.2.0",
            "_view_name": "StyleView",
            "bar_color": null,
            "description_width": ""
          }
        },
        "b365518110a54c578018b232de99def6": {
          "model_module": "@jupyter-widgets/base",
          "model_name": "LayoutModel",
          "model_module_version": "1.2.0",
          "state": {
            "_model_module": "@jupyter-widgets/base",
            "_model_module_version": "1.2.0",
            "_model_name": "LayoutModel",
            "_view_count": null,
            "_view_module": "@jupyter-widgets/base",
            "_view_module_version": "1.2.0",
            "_view_name": "LayoutView",
            "align_content": null,
            "align_items": null,
            "align_self": null,
            "border": null,
            "bottom": null,
            "display": null,
            "flex": null,
            "flex_flow": null,
            "grid_area": null,
            "grid_auto_columns": null,
            "grid_auto_flow": null,
            "grid_auto_rows": null,
            "grid_column": null,
            "grid_gap": null,
            "grid_row": null,
            "grid_template_areas": null,
            "grid_template_columns": null,
            "grid_template_rows": null,
            "height": null,
            "justify_content": null,
            "justify_items": null,
            "left": null,
            "margin": null,
            "max_height": null,
            "max_width": null,
            "min_height": null,
            "min_width": null,
            "object_fit": null,
            "object_position": null,
            "order": null,
            "overflow": null,
            "overflow_x": null,
            "overflow_y": null,
            "padding": null,
            "right": null,
            "top": null,
            "visibility": null,
            "width": null
          }
        },
        "68cc0ee5da4f43d5803ef2f08e564057": {
          "model_module": "@jupyter-widgets/controls",
          "model_name": "DescriptionStyleModel",
          "model_module_version": "1.5.0",
          "state": {
            "_model_module": "@jupyter-widgets/controls",
            "_model_module_version": "1.5.0",
            "_model_name": "DescriptionStyleModel",
            "_view_count": null,
            "_view_module": "@jupyter-widgets/base",
            "_view_module_version": "1.2.0",
            "_view_name": "StyleView",
            "description_width": ""
          }
        },
        "6e7f383a3b4c47c4ab5e1cd1163d85a3": {
          "model_module": "@jupyter-widgets/controls",
          "model_name": "HBoxModel",
          "model_module_version": "1.5.0",
          "state": {
            "_dom_classes": [],
            "_model_module": "@jupyter-widgets/controls",
            "_model_module_version": "1.5.0",
            "_model_name": "HBoxModel",
            "_view_count": null,
            "_view_module": "@jupyter-widgets/controls",
            "_view_module_version": "1.5.0",
            "_view_name": "HBoxView",
            "box_style": "",
            "children": [
              "IPY_MODEL_6c80872eacad48a5bf8c62a04cfc77af",
              "IPY_MODEL_288bc594532247088f71345eb9504423",
              "IPY_MODEL_d819caf3fd8549aaaf4f1aed9fbe8722"
            ],
            "layout": "IPY_MODEL_5f26923f68c34026a877b6f765483b33"
          }
        },
        "6c80872eacad48a5bf8c62a04cfc77af": {
          "model_module": "@jupyter-widgets/controls",
          "model_name": "HTMLModel",
          "model_module_version": "1.5.0",
          "state": {
            "_dom_classes": [],
            "_model_module": "@jupyter-widgets/controls",
            "_model_module_version": "1.5.0",
            "_model_name": "HTMLModel",
            "_view_count": null,
            "_view_module": "@jupyter-widgets/controls",
            "_view_module_version": "1.5.0",
            "_view_name": "HTMLView",
            "description": "",
            "description_tooltip": null,
            "layout": "IPY_MODEL_5641ed0996ca48019102ea0a8b9aa06a",
            "placeholder": "​",
            "style": "IPY_MODEL_5a46565467b841ef83d1d2492e915d85",
            "value": "100%"
          }
        },
        "288bc594532247088f71345eb9504423": {
          "model_module": "@jupyter-widgets/controls",
          "model_name": "FloatProgressModel",
          "model_module_version": "1.5.0",
          "state": {
            "_dom_classes": [],
            "_model_module": "@jupyter-widgets/controls",
            "_model_module_version": "1.5.0",
            "_model_name": "FloatProgressModel",
            "_view_count": null,
            "_view_module": "@jupyter-widgets/controls",
            "_view_module_version": "1.5.0",
            "_view_name": "ProgressView",
            "bar_style": "success",
            "description": "",
            "description_tooltip": null,
            "layout": "IPY_MODEL_daf9bd21bb9743b28e4cc33633855a09",
            "max": 233018,
            "min": 0,
            "orientation": "horizontal",
            "style": "IPY_MODEL_bc28681eb0e24621861944916c504cf3",
            "value": 233018
          }
        },
        "d819caf3fd8549aaaf4f1aed9fbe8722": {
          "model_module": "@jupyter-widgets/controls",
          "model_name": "HTMLModel",
          "model_module_version": "1.5.0",
          "state": {
            "_dom_classes": [],
            "_model_module": "@jupyter-widgets/controls",
            "_model_module_version": "1.5.0",
            "_model_name": "HTMLModel",
            "_view_count": null,
            "_view_module": "@jupyter-widgets/controls",
            "_view_module_version": "1.5.0",
            "_view_name": "HTMLView",
            "description": "",
            "description_tooltip": null,
            "layout": "IPY_MODEL_41095a1236f048da9f08a06a27099e81",
            "placeholder": "​",
            "style": "IPY_MODEL_19f06ea323524434bd9c5d3680b84c89",
            "value": " 233018/233018 [01:17&lt;00:00, 18264.91it/s]"
          }
        },
        "5f26923f68c34026a877b6f765483b33": {
          "model_module": "@jupyter-widgets/base",
          "model_name": "LayoutModel",
          "model_module_version": "1.2.0",
          "state": {
            "_model_module": "@jupyter-widgets/base",
            "_model_module_version": "1.2.0",
            "_model_name": "LayoutModel",
            "_view_count": null,
            "_view_module": "@jupyter-widgets/base",
            "_view_module_version": "1.2.0",
            "_view_name": "LayoutView",
            "align_content": null,
            "align_items": null,
            "align_self": null,
            "border": null,
            "bottom": null,
            "display": null,
            "flex": null,
            "flex_flow": null,
            "grid_area": null,
            "grid_auto_columns": null,
            "grid_auto_flow": null,
            "grid_auto_rows": null,
            "grid_column": null,
            "grid_gap": null,
            "grid_row": null,
            "grid_template_areas": null,
            "grid_template_columns": null,
            "grid_template_rows": null,
            "height": null,
            "justify_content": null,
            "justify_items": null,
            "left": null,
            "margin": null,
            "max_height": null,
            "max_width": null,
            "min_height": null,
            "min_width": null,
            "object_fit": null,
            "object_position": null,
            "order": null,
            "overflow": null,
            "overflow_x": null,
            "overflow_y": null,
            "padding": null,
            "right": null,
            "top": null,
            "visibility": null,
            "width": null
          }
        },
        "5641ed0996ca48019102ea0a8b9aa06a": {
          "model_module": "@jupyter-widgets/base",
          "model_name": "LayoutModel",
          "model_module_version": "1.2.0",
          "state": {
            "_model_module": "@jupyter-widgets/base",
            "_model_module_version": "1.2.0",
            "_model_name": "LayoutModel",
            "_view_count": null,
            "_view_module": "@jupyter-widgets/base",
            "_view_module_version": "1.2.0",
            "_view_name": "LayoutView",
            "align_content": null,
            "align_items": null,
            "align_self": null,
            "border": null,
            "bottom": null,
            "display": null,
            "flex": null,
            "flex_flow": null,
            "grid_area": null,
            "grid_auto_columns": null,
            "grid_auto_flow": null,
            "grid_auto_rows": null,
            "grid_column": null,
            "grid_gap": null,
            "grid_row": null,
            "grid_template_areas": null,
            "grid_template_columns": null,
            "grid_template_rows": null,
            "height": null,
            "justify_content": null,
            "justify_items": null,
            "left": null,
            "margin": null,
            "max_height": null,
            "max_width": null,
            "min_height": null,
            "min_width": null,
            "object_fit": null,
            "object_position": null,
            "order": null,
            "overflow": null,
            "overflow_x": null,
            "overflow_y": null,
            "padding": null,
            "right": null,
            "top": null,
            "visibility": null,
            "width": null
          }
        },
        "5a46565467b841ef83d1d2492e915d85": {
          "model_module": "@jupyter-widgets/controls",
          "model_name": "DescriptionStyleModel",
          "model_module_version": "1.5.0",
          "state": {
            "_model_module": "@jupyter-widgets/controls",
            "_model_module_version": "1.5.0",
            "_model_name": "DescriptionStyleModel",
            "_view_count": null,
            "_view_module": "@jupyter-widgets/base",
            "_view_module_version": "1.2.0",
            "_view_name": "StyleView",
            "description_width": ""
          }
        },
        "daf9bd21bb9743b28e4cc33633855a09": {
          "model_module": "@jupyter-widgets/base",
          "model_name": "LayoutModel",
          "model_module_version": "1.2.0",
          "state": {
            "_model_module": "@jupyter-widgets/base",
            "_model_module_version": "1.2.0",
            "_model_name": "LayoutModel",
            "_view_count": null,
            "_view_module": "@jupyter-widgets/base",
            "_view_module_version": "1.2.0",
            "_view_name": "LayoutView",
            "align_content": null,
            "align_items": null,
            "align_self": null,
            "border": null,
            "bottom": null,
            "display": null,
            "flex": null,
            "flex_flow": null,
            "grid_area": null,
            "grid_auto_columns": null,
            "grid_auto_flow": null,
            "grid_auto_rows": null,
            "grid_column": null,
            "grid_gap": null,
            "grid_row": null,
            "grid_template_areas": null,
            "grid_template_columns": null,
            "grid_template_rows": null,
            "height": null,
            "justify_content": null,
            "justify_items": null,
            "left": null,
            "margin": null,
            "max_height": null,
            "max_width": null,
            "min_height": null,
            "min_width": null,
            "object_fit": null,
            "object_position": null,
            "order": null,
            "overflow": null,
            "overflow_x": null,
            "overflow_y": null,
            "padding": null,
            "right": null,
            "top": null,
            "visibility": null,
            "width": null
          }
        },
        "bc28681eb0e24621861944916c504cf3": {
          "model_module": "@jupyter-widgets/controls",
          "model_name": "ProgressStyleModel",
          "model_module_version": "1.5.0",
          "state": {
            "_model_module": "@jupyter-widgets/controls",
            "_model_module_version": "1.5.0",
            "_model_name": "ProgressStyleModel",
            "_view_count": null,
            "_view_module": "@jupyter-widgets/base",
            "_view_module_version": "1.2.0",
            "_view_name": "StyleView",
            "bar_color": null,
            "description_width": ""
          }
        },
        "41095a1236f048da9f08a06a27099e81": {
          "model_module": "@jupyter-widgets/base",
          "model_name": "LayoutModel",
          "model_module_version": "1.2.0",
          "state": {
            "_model_module": "@jupyter-widgets/base",
            "_model_module_version": "1.2.0",
            "_model_name": "LayoutModel",
            "_view_count": null,
            "_view_module": "@jupyter-widgets/base",
            "_view_module_version": "1.2.0",
            "_view_name": "LayoutView",
            "align_content": null,
            "align_items": null,
            "align_self": null,
            "border": null,
            "bottom": null,
            "display": null,
            "flex": null,
            "flex_flow": null,
            "grid_area": null,
            "grid_auto_columns": null,
            "grid_auto_flow": null,
            "grid_auto_rows": null,
            "grid_column": null,
            "grid_gap": null,
            "grid_row": null,
            "grid_template_areas": null,
            "grid_template_columns": null,
            "grid_template_rows": null,
            "height": null,
            "justify_content": null,
            "justify_items": null,
            "left": null,
            "margin": null,
            "max_height": null,
            "max_width": null,
            "min_height": null,
            "min_width": null,
            "object_fit": null,
            "object_position": null,
            "order": null,
            "overflow": null,
            "overflow_x": null,
            "overflow_y": null,
            "padding": null,
            "right": null,
            "top": null,
            "visibility": null,
            "width": null
          }
        },
        "19f06ea323524434bd9c5d3680b84c89": {
          "model_module": "@jupyter-widgets/controls",
          "model_name": "DescriptionStyleModel",
          "model_module_version": "1.5.0",
          "state": {
            "_model_module": "@jupyter-widgets/controls",
            "_model_module_version": "1.5.0",
            "_model_name": "DescriptionStyleModel",
            "_view_count": null,
            "_view_module": "@jupyter-widgets/base",
            "_view_module_version": "1.2.0",
            "_view_name": "StyleView",
            "description_width": ""
          }
        }
      }
    }
  },
  "cells": [
    {
      "cell_type": "markdown",
      "metadata": {
        "id": "view-in-github",
        "colab_type": "text"
      },
      "source": [
        "<a href=\"https://colab.research.google.com/github/flamemeister/QazQa/blob/main/create_kaz5_base.ipynb\" target=\"_parent\"><img src=\"https://colab.research.google.com/assets/colab-badge.svg\" alt=\"Open In Colab\"/></a>"
      ]
    },
    {
      "cell_type": "code",
      "metadata": {
        "id": "BoiF06nfGvtW"
      },
      "source": [
        "!pip install transformers sentencepiece"
      ],
      "execution_count": null,
      "outputs": []
    },
    {
      "cell_type": "code",
      "metadata": {
        "id": "X99M7UWoHC9k"
      },
      "source": [
        "from transformers import T5ForConditionalGeneration, T5Tokenizer\n",
        "import torch"
      ],
      "execution_count": null,
      "outputs": []
    },
    {
      "cell_type": "code",
      "metadata": {
        "colab": {
          "base_uri": "https://localhost:8080/",
          "height": 145,
          "referenced_widgets": [
            "169412b1caff41bd97c2990109ce1144",
            "d27cd6e59b8e4428b6cd6ecd73512c30",
            "1ea9ba5bee0843eaad2978acf40fbb3f",
            "a943a25640a94f90924afa31082fe28b",
            "cc98c36b80e346d89dc132dd432bc7e0",
            "f9840a26f2b143948332da6fe89a8eac",
            "a23edfc4120444f49dbaf40892b5440a",
            "66128c7be9ef4384b49c2ae0b5b0a0b1",
            "1226779585d64e44ab9de8b7a59a245e",
            "c88f52934dbe4064a46746719305a09c",
            "4ef8e1cb01af48d7b438d10c6926c1af",
            "c260a8beab8d408eb7142af759e55917",
            "6dc58401190c479980c68fbc68ac33c2",
            "af1ef590895b46cf92de50f97b2baaf3",
            "022a46554cd648e39e97f17f41b16098",
            "f15ab4284bfa45e0817fdb9cab71e9a3",
            "a551c27d42704276a028f5bd172b8467",
            "ccfa2ecfc5bb438bb67d220131c20760",
            "40f0455defa94077a20acfca6d5e82d8",
            "ca367ffff5404c82b5ee5ed9cf60d466",
            "47b96c50ed8e4c90acb6084e91ae5ec7",
            "9d6a20432ab7403992fade8c326d415e",
            "90aa76f1e235449e923c149e15ece8d5",
            "e3116cc243f540119d0ff9a635b55d97",
            "5e125c8d9bff40b7af29b4ce854fa7c4",
            "55c539939b9948dcb6a8fa5d5204d1b6",
            "ba12adba830748099cd75e766bbacdbe",
            "f8a7fc00e80b4d7e9fc80bfdae4db4a5",
            "539690b45f2a434e9fba352161787eb6",
            "7e7ee844f6dd4c65b092877b305dce7c",
            "02a313b45e7f40fe9c96a2c4e5890e59",
            "b55f132a7e1c4b92aa5b34acd48312a2",
            "228ff9a24d604159858b93ab9af79733",
            "7d96355746f24bb59cee04b2f5cb7020",
            "13e70660cbeb476989c2bc82c7e6d70d",
            "acb29b35b0714a17af0f0c54e56e893e",
            "0ee0a75973f54f2cb8cddbe321473980",
            "c4fe9277546c4db3aefaa24c9319fe15",
            "5be70965a58a4ea8b0aec3afcb2f9a95",
            "5b594477eab64dd48bb7833d809e7b67",
            "68d1940aff15434188c98fd91fe44700",
            "a1d3e32cc4e5435b8d1191c88fcc0d77",
            "a30ab2b5744d4aabbdc325f02db26fd2",
            "1c7997b3c5464c2ea88c863d8e7418a5"
          ]
        },
        "id": "7OnBRq8pHFDN",
        "outputId": "fee89f1c-c64d-419a-ee8b-f7bd18b7cb04"
      },
      "source": [
        "tokenizer = T5Tokenizer.from_pretrained(\"google/mt5-large\")"
      ],
      "execution_count": null,
      "outputs": [
        {
          "output_type": "display_data",
          "data": {
            "text/plain": [
              "Downloading (…)ve/main/spiece.model:   0%|          | 0.00/4.31M [00:00<?, ?B/s]"
            ],
            "application/vnd.jupyter.widget-view+json": {
              "version_major": 2,
              "version_minor": 0,
              "model_id": "169412b1caff41bd97c2990109ce1144"
            }
          },
          "metadata": {}
        },
        {
          "output_type": "display_data",
          "data": {
            "text/plain": [
              "Downloading (…)cial_tokens_map.json:   0%|          | 0.00/65.0 [00:00<?, ?B/s]"
            ],
            "application/vnd.jupyter.widget-view+json": {
              "version_major": 2,
              "version_minor": 0,
              "model_id": "c260a8beab8d408eb7142af759e55917"
            }
          },
          "metadata": {}
        },
        {
          "output_type": "display_data",
          "data": {
            "text/plain": [
              "Downloading (…)okenizer_config.json:   0%|          | 0.00/376 [00:00<?, ?B/s]"
            ],
            "application/vnd.jupyter.widget-view+json": {
              "version_major": 2,
              "version_minor": 0,
              "model_id": "90aa76f1e235449e923c149e15ece8d5"
            }
          },
          "metadata": {}
        },
        {
          "output_type": "display_data",
          "data": {
            "text/plain": [
              "Downloading (…)lve/main/config.json:   0%|          | 0.00/642 [00:00<?, ?B/s]"
            ],
            "application/vnd.jupyter.widget-view+json": {
              "version_major": 2,
              "version_minor": 0,
              "model_id": "7d96355746f24bb59cee04b2f5cb7020"
            }
          },
          "metadata": {}
        }
      ]
    },
    {
      "cell_type": "code",
      "metadata": {
        "id": "HkXHkM6OHJcH",
        "colab": {
          "base_uri": "https://localhost:8080/",
          "height": 118,
          "referenced_widgets": [
            "22f91f4a4dfa45ebad860bbe79b3c99f",
            "4ef2b7e1d7324bad8c2f851c4bb9953e",
            "3a0d722073d940869cad6850759cbf32",
            "7d3426cc82624fa284a54233da291a67",
            "960f9509638f4bb498b26209ee280746",
            "9fbfd4dff30745bfa9a4201aca0600e8",
            "f3043272ee49447ea51ca400dc70a184",
            "9f85e178596e4819bcd74a502c7f72fd",
            "b4263850a8d14ab996ca4c45448ee7fb",
            "6a425d91748e4ef2873692f44f37fe42",
            "79be5b3bd97a482cb2d4fd795347236e",
            "dc7b912f8af24b8696c152aa0a380abb",
            "ede0e73d5b3c4b0482fac262dae9dbe5",
            "454432d3a10d43879737ec51904cd748",
            "932824eb9ec741f3bbb2642d3afa340c",
            "37db8416fb9a4d3584d34269ee052c3e",
            "768a5652eea2483daaab14c0b71f6697",
            "74ed3aff0de34b0a984f51b240e63073",
            "bcbecba99a4d4dacb4493f174c024e86",
            "20c911e4a4e846508011c7a0f69d7d2e",
            "688d48a4ee374792a0c951531f2933cf",
            "772410ec4a584ea2b12b2073daf5e5af"
          ]
        },
        "outputId": "98ac01bb-6f9f-4739-a01a-2fc12376af39"
      },
      "source": [
        "model = T5ForConditionalGeneration.from_pretrained('google/mt5-large')"
      ],
      "execution_count": null,
      "outputs": [
        {
          "output_type": "stream",
          "name": "stderr",
          "text": [
            "You are using a model of type mt5 to instantiate a model of type t5. This is not supported for all configurations of models and can yield errors.\n"
          ]
        },
        {
          "output_type": "display_data",
          "data": {
            "text/plain": [
              "Downloading (…)\"pytorch_model.bin\";:   0%|          | 0.00/4.92G [00:00<?, ?B/s]"
            ],
            "application/vnd.jupyter.widget-view+json": {
              "version_major": 2,
              "version_minor": 0,
              "model_id": "22f91f4a4dfa45ebad860bbe79b3c99f"
            }
          },
          "metadata": {}
        },
        {
          "output_type": "display_data",
          "data": {
            "text/plain": [
              "Downloading (…)neration_config.json:   0%|          | 0.00/147 [00:00<?, ?B/s]"
            ],
            "application/vnd.jupyter.widget-view+json": {
              "version_major": 2,
              "version_minor": 0,
              "model_id": "dc7b912f8af24b8696c152aa0a380abb"
            }
          },
          "metadata": {}
        }
      ]
    },
    {
      "cell_type": "code",
      "metadata": {
        "colab": {
          "base_uri": "https://localhost:8080/"
        },
        "id": "U0vhvaP8HKm8",
        "outputId": "46b8b85a-3a41-4dd6-ce20-1cc64fae946b"
      },
      "source": [
        "print(tokenizer.vocab_size)"
      ],
      "execution_count": null,
      "outputs": [
        {
          "output_type": "stream",
          "name": "stdout",
          "text": [
            "250100\n"
          ]
        }
      ]
    },
    {
      "cell_type": "code",
      "metadata": {
        "colab": {
          "base_uri": "https://localhost:8080/"
        },
        "id": "hz6Bv4tZIsX5",
        "outputId": "abb02353-61a0-475b-987c-781b5fe28d00"
      },
      "source": [
        "def msize(m):\n",
        "    return sum(p.numel() for p in m.parameters())\n",
        "\n",
        "original_size = msize(model)\n",
        "print(msize(model))\n",
        "print(msize(model.shared))\n",
        "print('encoder')\n",
        "print(msize(model.encoder))\n",
        "print(msize(model.encoder.block))\n",
        "print('decoder')\n",
        "print(msize(model.decoder))\n",
        "print(msize(model.decoder.block))\n",
        "print(msize(model.lm_head))"
      ],
      "execution_count": null,
      "outputs": [
        {
          "output_type": "stream",
          "name": "stdout",
          "text": [
            "1229581312\n",
            "256114688\n",
            "encoder\n",
            "564446720\n",
            "308331008\n",
            "decoder\n",
            "665134592\n",
            "409018880\n",
            "256114688\n"
          ]
        }
      ]
    },
    {
      "cell_type": "markdown",
      "metadata": {
        "id": "18ckhebWLLra"
      },
      "source": [
        "Input and output embeddings are 66% of the whole model"
      ]
    },
    {
      "cell_type": "code",
      "metadata": {
        "colab": {
          "base_uri": "https://localhost:8080/"
        },
        "id": "hmvmyYsyHh2s",
        "outputId": "9b2ab62a-136b-4f33-aa1f-2156bb3ad580"
      },
      "source": [
        "print(msize(model.shared) / msize(model))\n",
        "print(msize(model.lm_head) / msize(model))"
      ],
      "execution_count": null,
      "outputs": [
        {
          "output_type": "stream",
          "name": "stdout",
          "text": [
            "0.2082942262544732\n",
            "0.2082942262544732\n"
          ]
        }
      ]
    },
    {
      "cell_type": "code",
      "metadata": {
        "id": "XNHwPMCHiRhr"
      },
      "source": [
        "!wget http://pcai056.informatik.uni-leipzig.de/downloads/corpora/eng-com_web-public_2018_1M.tar.gz\n",
        "!tar -xsvf eng-com_web-public_2018_1M.tar.gz"
      ],
      "execution_count": null,
      "outputs": []
    },
    {
      "cell_type": "code",
      "metadata": {
        "colab": {
          "base_uri": "https://localhost:8080/",
          "height": 285
        },
        "id": "IoJlXMw_M7pT",
        "outputId": "561f9bae-18b3-46cf-a409-1d69aad27dd8"
      },
      "source": [
        "import pandas as pd\n",
        "pd.options.display.max_colwidth = 300\n",
        "import csv\n",
        "fname = 'kaz_news_2020_10K/kaz_news_2020_10K-sentences.txt'\n",
        "df_kaz = pd.read_csv(fname, sep='\\t', header=None, quoting=csv.QUOTE_NONE)\n",
        "df_kaz.columns = ['idx', 'text']\n",
        "df_kaz.sample(5)"
      ],
      "execution_count": null,
      "outputs": [
        {
          "output_type": "execute_result",
          "data": {
            "text/plain": [
              "       idx  \\\n",
              "8412  8413   \n",
              "3153  3154   \n",
              "9622  9623   \n",
              "4856  4857   \n",
              "6626  6627   \n",
              "\n",
              "                                                                                                                                                                                                       text  \n",
              "8412                                                                                                                                   Серіктің келіншегі – Тұрсынзада күніне әр сиырдан 10 литр сүт алады.  \n",
              "3153                                                                                                                                     Әйтпесе бәрінде бірдей тегін машинасы да, тіге алатын өнер де жоқ.  \n",
              "9622  Үкіметке жыл сайын әлемнің жетекші ғылыми орталықтарында 500 ғалымның тағылымдамадан өтуін қамтамасыз етуді, сондай-ақ, «Жас ғалым» жобасы аясында зерттеу жүргізу үшін 1000 грант бөлуді тапсырамын.  \n",
              "4856                                                                                                                                     Қазір құс фабрикасына келген шығын сомасы 554,7 млн теңгеге жетті.  \n",
              "6626           Нұр-Сұлтан қаласында орналасқан шет мемлекеттердің дипломатиялық өкілдіктері мен халықаралық ұйымдарға қатысты туындаған мәселелерді тез арада шешіп, тиісті көмек көрсету керектігін айтты.  "
            ],
            "text/html": [
              "\n",
              "  <div id=\"df-f8970b8d-bb1a-4841-8b28-d2d00db5094e\">\n",
              "    <div class=\"colab-df-container\">\n",
              "      <div>\n",
              "<style scoped>\n",
              "    .dataframe tbody tr th:only-of-type {\n",
              "        vertical-align: middle;\n",
              "    }\n",
              "\n",
              "    .dataframe tbody tr th {\n",
              "        vertical-align: top;\n",
              "    }\n",
              "\n",
              "    .dataframe thead th {\n",
              "        text-align: right;\n",
              "    }\n",
              "</style>\n",
              "<table border=\"1\" class=\"dataframe\">\n",
              "  <thead>\n",
              "    <tr style=\"text-align: right;\">\n",
              "      <th></th>\n",
              "      <th>idx</th>\n",
              "      <th>text</th>\n",
              "    </tr>\n",
              "  </thead>\n",
              "  <tbody>\n",
              "    <tr>\n",
              "      <th>8412</th>\n",
              "      <td>8413</td>\n",
              "      <td>Серіктің келіншегі – Тұрсынзада күніне әр сиырдан 10 литр сүт алады.</td>\n",
              "    </tr>\n",
              "    <tr>\n",
              "      <th>3153</th>\n",
              "      <td>3154</td>\n",
              "      <td>Әйтпесе бәрінде бірдей тегін машинасы да, тіге алатын өнер де жоқ.</td>\n",
              "    </tr>\n",
              "    <tr>\n",
              "      <th>9622</th>\n",
              "      <td>9623</td>\n",
              "      <td>Үкіметке жыл сайын әлемнің жетекші ғылыми орталықтарында 500 ғалымның тағылымдамадан өтуін қамтамасыз етуді, сондай-ақ, «Жас ғалым» жобасы аясында зерттеу жүргізу үшін 1000 грант бөлуді тапсырамын.</td>\n",
              "    </tr>\n",
              "    <tr>\n",
              "      <th>4856</th>\n",
              "      <td>4857</td>\n",
              "      <td>Қазір құс фабрикасына келген шығын сомасы 554,7 млн теңгеге жетті.</td>\n",
              "    </tr>\n",
              "    <tr>\n",
              "      <th>6626</th>\n",
              "      <td>6627</td>\n",
              "      <td>Нұр-Сұлтан қаласында орналасқан шет мемлекеттердің дипломатиялық өкілдіктері мен халықаралық ұйымдарға қатысты туындаған мәселелерді тез арада шешіп, тиісті көмек көрсету керектігін айтты.</td>\n",
              "    </tr>\n",
              "  </tbody>\n",
              "</table>\n",
              "</div>\n",
              "      <button class=\"colab-df-convert\" onclick=\"convertToInteractive('df-f8970b8d-bb1a-4841-8b28-d2d00db5094e')\"\n",
              "              title=\"Convert this dataframe to an interactive table.\"\n",
              "              style=\"display:none;\">\n",
              "        \n",
              "  <svg xmlns=\"http://www.w3.org/2000/svg\" height=\"24px\"viewBox=\"0 0 24 24\"\n",
              "       width=\"24px\">\n",
              "    <path d=\"M0 0h24v24H0V0z\" fill=\"none\"/>\n",
              "    <path d=\"M18.56 5.44l.94 2.06.94-2.06 2.06-.94-2.06-.94-.94-2.06-.94 2.06-2.06.94zm-11 1L8.5 8.5l.94-2.06 2.06-.94-2.06-.94L8.5 2.5l-.94 2.06-2.06.94zm10 10l.94 2.06.94-2.06 2.06-.94-2.06-.94-.94-2.06-.94 2.06-2.06.94z\"/><path d=\"M17.41 7.96l-1.37-1.37c-.4-.4-.92-.59-1.43-.59-.52 0-1.04.2-1.43.59L10.3 9.45l-7.72 7.72c-.78.78-.78 2.05 0 2.83L4 21.41c.39.39.9.59 1.41.59.51 0 1.02-.2 1.41-.59l7.78-7.78 2.81-2.81c.8-.78.8-2.07 0-2.86zM5.41 20L4 18.59l7.72-7.72 1.47 1.35L5.41 20z\"/>\n",
              "  </svg>\n",
              "      </button>\n",
              "      \n",
              "  <style>\n",
              "    .colab-df-container {\n",
              "      display:flex;\n",
              "      flex-wrap:wrap;\n",
              "      gap: 12px;\n",
              "    }\n",
              "\n",
              "    .colab-df-convert {\n",
              "      background-color: #E8F0FE;\n",
              "      border: none;\n",
              "      border-radius: 50%;\n",
              "      cursor: pointer;\n",
              "      display: none;\n",
              "      fill: #1967D2;\n",
              "      height: 32px;\n",
              "      padding: 0 0 0 0;\n",
              "      width: 32px;\n",
              "    }\n",
              "\n",
              "    .colab-df-convert:hover {\n",
              "      background-color: #E2EBFA;\n",
              "      box-shadow: 0px 1px 2px rgba(60, 64, 67, 0.3), 0px 1px 3px 1px rgba(60, 64, 67, 0.15);\n",
              "      fill: #174EA6;\n",
              "    }\n",
              "\n",
              "    [theme=dark] .colab-df-convert {\n",
              "      background-color: #3B4455;\n",
              "      fill: #D2E3FC;\n",
              "    }\n",
              "\n",
              "    [theme=dark] .colab-df-convert:hover {\n",
              "      background-color: #434B5C;\n",
              "      box-shadow: 0px 1px 3px 1px rgba(0, 0, 0, 0.15);\n",
              "      filter: drop-shadow(0px 1px 2px rgba(0, 0, 0, 0.3));\n",
              "      fill: #FFFFFF;\n",
              "    }\n",
              "  </style>\n",
              "\n",
              "      <script>\n",
              "        const buttonEl =\n",
              "          document.querySelector('#df-f8970b8d-bb1a-4841-8b28-d2d00db5094e button.colab-df-convert');\n",
              "        buttonEl.style.display =\n",
              "          google.colab.kernel.accessAllowed ? 'block' : 'none';\n",
              "\n",
              "        async function convertToInteractive(key) {\n",
              "          const element = document.querySelector('#df-f8970b8d-bb1a-4841-8b28-d2d00db5094e');\n",
              "          const dataTable =\n",
              "            await google.colab.kernel.invokeFunction('convertToInteractive',\n",
              "                                                     [key], {});\n",
              "          if (!dataTable) return;\n",
              "\n",
              "          const docLinkHtml = 'Like what you see? Visit the ' +\n",
              "            '<a target=\"_blank\" href=https://colab.research.google.com/notebooks/data_table.ipynb>data table notebook</a>'\n",
              "            + ' to learn more about interactive tables.';\n",
              "          element.innerHTML = '';\n",
              "          dataTable['output_type'] = 'display_data';\n",
              "          await google.colab.output.renderOutput(dataTable, element);\n",
              "          const docLink = document.createElement('div');\n",
              "          docLink.innerHTML = docLinkHtml;\n",
              "          element.appendChild(docLink);\n",
              "        }\n",
              "      </script>\n",
              "    </div>\n",
              "  </div>\n",
              "  "
            ]
          },
          "metadata": {},
          "execution_count": 54
        }
      ]
    },
    {
      "cell_type": "code",
      "metadata": {
        "colab": {
          "base_uri": "https://localhost:8080/",
          "height": 49,
          "referenced_widgets": [
            "cb733391c2424a43820fee03100ab5d3",
            "a2f08a2bd52b4f72bc2212b3440e9f54",
            "91a2d7fbd6844019b4d8aa82156b61b4",
            "86857ffd1dea4851b6daf66b016a353b",
            "cecbf5468eaa49f6a1da577247f41c66",
            "3e9ffa2a7f324e4a9960dc4aa8b94d76",
            "18f71a9794d44f30ae835457f663b12f",
            "71a39c9db4bc4bb9a7a3bf4ba79eb90e",
            "af24cffcbc6949a4877505486fea0940",
            "b365518110a54c578018b232de99def6",
            "68cc0ee5da4f43d5803ef2f08e564057"
          ]
        },
        "id": "lmzSON9iM_yb",
        "outputId": "d1b7b91e-cc7a-4923-d8cd-81b8d58930ce"
      },
      "source": [
        "from collections import Counter\n",
        "from tqdm.auto import tqdm, trange\n",
        "\n",
        "cnt_kaz = Counter()\n",
        "for text in tqdm(df_kaz.text):\n",
        "    cnt_kaz.update(tokenizer.encode(text))"
      ],
      "execution_count": null,
      "outputs": [
        {
          "output_type": "display_data",
          "data": {
            "text/plain": [
              "  0%|          | 0/10000 [00:00<?, ?it/s]"
            ],
            "application/vnd.jupyter.widget-view+json": {
              "version_major": 2,
              "version_minor": 0,
              "model_id": "cb733391c2424a43820fee03100ab5d3"
            }
          },
          "metadata": {}
        }
      ]
    },
    {
      "cell_type": "code",
      "metadata": {
        "colab": {
          "base_uri": "https://localhost:8080/"
        },
        "id": "M07fj3z0NWiy",
        "outputId": "c8af3051-b311-48fa-bc08-9b186f2f55d6"
      },
      "source": [
        "print(len(cnt_kaz), len(cnt_kaz)/tokenizer.vocab_size)"
      ],
      "execution_count": null,
      "outputs": [
        {
          "output_type": "stream",
          "name": "stdout",
          "text": [
            "7943 0.0317592962814874\n"
          ]
        }
      ]
    },
    {
      "cell_type": "code",
      "metadata": {
        "colab": {
          "base_uri": "https://localhost:8080/"
        },
        "id": "kNudkAe5NbKT",
        "outputId": "e2f1bee4-48fa-44b9-d656-15a7421cd3dc"
      },
      "source": [
        "print('kaz')\n",
        "for top in 10_000, 20_000, 30_000:\n",
        "    print(top, sum(v for k, v in cnt_kaz.most_common(top)) / sum(cnt_kaz.values()))"
      ],
      "execution_count": null,
      "outputs": [
        {
          "output_type": "stream",
          "name": "stdout",
          "text": [
            "kaz\n",
            "10000 1.0\n",
            "20000 1.0\n",
            "30000 1.0\n"
          ]
        }
      ]
    },
    {
      "cell_type": "markdown",
      "metadata": {
        "id": "0N_D37J3lbqr"
      },
      "source": [
        "Remember the old vocabulary, because we are going to replace it soon!"
      ]
    },
    {
      "cell_type": "code",
      "metadata": {
        "id": "9RzGibfZQbgP"
      },
      "source": [
        "old_voc = tokenizer.get_vocab()\n",
        "old_inv_voc = {v: k for k, v in old_voc.items()}"
      ],
      "execution_count": null,
      "outputs": []
    },
    {
      "cell_type": "markdown",
      "metadata": {
        "id": "rKwEQtbRljiC"
      },
      "source": [
        "Look at the most used tokens. They are mostly service words or prefixes."
      ]
    },
    {
      "cell_type": "code",
      "metadata": {
        "colab": {
          "base_uri": "https://localhost:8080/"
        },
        "id": "Y8oL4rL8QZ8f",
        "outputId": "24a047eb-f7c0-4994-9059-0f2647b63b9a"
      },
      "source": [
        "print(tokenizer.convert_ids_to_tokens([k for k, v in cnt_kaz.most_common(1000)]))"
      ],
      "execution_count": null,
      "outputs": [
        {
          "output_type": "stream",
          "name": "stdout",
          "text": [
            "['▁', '</s>', '.', ',', 'у', '-', 'і', 'ы', 'а', 'п', 'ге', 'ға', 'ды', '▁«', '▁бар', 'е', '▁бір', 'ған', '▁және', '▁ж', 'лық', 'ын', 'м', 'ып', 'сы', 'ді', 'іп', 'й', '▁–', '▁О', 'інде', '▁жұмыс', '▁мен', '»', 'ның', 'да', '▁да', 'ң', '▁бол', '▁де', 'де', 'ты', '▁с', 'т', 'қа', 'үшін', 'р', 'мен', 'уға', '▁бас', 'н', 'ында', 'ақ', '▁жыл', 'ін', '▁қала', 'ке', 'Бұл', 'с', '▁қызмет', '▁адам', '▁А', '▁өз', '▁со', '▁Со', 'тар', '▁Б', '▁к', '▁қа', 'ейін', 'еді', '▁қара', '▁Қо', 'дан', '▁бер', '▁күн', 'інің', '▁обл', 'лар', '▁тұрғ', '▁бойынша', '▁ар', 'л', 'ны', '▁жағдай', '▁баста', '▁отыр', 'та', '▁айт', '▁Ал', 'ғы', 'лік', '▁ал', '▁ел', '▁тең', '▁д', 'дық', '▁от', '▁жол', 'дағы', 'аудан', 'стана', 'ті', '▁деп', 'и', 'іне', 'ш', '▁Е', '▁мы', '▁бұл', '▁б', 'ден', '▁Ж', '▁жер', 'ша', 'осы', 'ір', '▁өт', 'гі', 'атын', 'лардың', '▁қам', 'на', 'ндай', 'қ', 'ен', '▁әк', 'ады', '▁Ә', 'уге', '▁—', 'ының', 'ына', 'з', '▁керек', '▁көп', '▁туралы', 'алық', '▁жаса', '▁у', '▁Қазақстан', 'о', '▁орта', '▁\"', '▁жаңа', '▁қол', 'ақыт', 'ім', 'етін', '▁кез', '▁құ', '▁тұр', 'ауыл', '▁Қаз', '▁жас', 'ген', '▁жөн', 'оқ', '▁қал', 'г', '▁көрсет', 'сын', '▁үй', '▁қатыс', '▁әр', '▁шара', '▁қар', '▁са', '▁С', 'ым', 'сының', 'тың', '▁ти', 'дік', 'шысы', 'ей', 'ет', 'дар', '▁азамат', '▁жаты', '▁Бір', 'қты', '▁Қ', 'тен', '▁болған', 'я', '▁екен', '▁деген', 'пен', '▁К', '▁мүмкін', '▁емес', 'ынан', 'алып', '▁об', '▁кө', '▁болады', 'өң', '▁жылы', 'ыстық', 'ылған', 'дың', 'кен', '▁сақта', 'ж', '▁кел', 'ше', 'ысында', '▁жан', '▁мл', '▁іш', 'қылы', 'шы', '▁қау', 'тік', '▁маман', 'тағы', 'ғана', '▁мәселе', 'дейді', '▁қос', '»,', '▁та', '▁Қа', 'б', 'дардың', 'тің', '▁Ө', '\"', 'йды', 'тық', 'ындағы', '▁көр', 'қан', '▁жақ', 'ту', '▁қой', '▁жүр', 'лыс', 'сында', 'ем', '▁болды', '▁Мұ', 'гер', 'ттық', '?', 'ма', 'әрі', 'мемлекеттік', 'ымыз', 'лы', 'інен', 'оның', 'ан', 'сі', 'лығы', 'іміз', 'ата', '▁тіл', 'ғ', 'басы', 'әлеуметтік', 'атқан', 'ат', 'ұқ', 'іздің', 'алпы', 'індегі', '▁беру', '▁қабылда', '▁Ол', '▁то', 'ой', '▁істе', 'ер', '▁қажет', '▁би', 'іс', 'жүз', 'ылды', 'ілікті', '▁біз', '▁коронавирус', 'к', '▁бағдарлама', 'тіп', '▁сал', 'сіз', 'імді', '▁Т', 'дәрі', '▁бала', 'еге', '▁не', '▁шеш', 'тер', 'кім', 'ларды', '▁қазақ', 'үгін', 'ңғы', '▁өткіз', '▁байланысты', 'ілді', '▁келген', '▁ең', 'қы', 'ілген', 'алған', 'іргі', '▁Ұ', '▁Ү', '▁арна', '▁жеткіз', 'удың', 'өмір', '▁кет', 'ба', 'ынша', 'ов', '▁алу', '▁өтк', 'екі', 'ық', 'бір', '▁көмек', '▁аз', '▁түс', '▁құр', '▁Президент', 'лары', 'бай', '▁ай', 'тары', '▁көш', 'са', 'нің', '▁қорға', '▁ұста', '▁асыр', 'Қ', '▁бөл', 'імі', '▁медицин', 'кер', '▁ол', '▁на', '▁Ел', 'іледі', '▁алды', 'ларға', 'тамасы', 'те', '▁Нұр', 'ыл', 'жеке', '▁мұ', 'жоба', 'амыз', '▁жауап', 'нымен', '▁алын', '▁шығар', '▁мектеп', '▁үл', 'лі', '▁пен', 'нді', 'із', 'ндықтан', 'аур', 'тан', 'карантин', '▁тара', '▁М', 'нан', '▁түр', 'лған', 'сыз', 'сым', '▁орында', '▁қаз', '▁қолда', 'сін', '▁іс', ':', 'уда', 'айда', '▁оқу', 'дары', '▁ту', '▁ұсын', 'інші', '▁хабарла', 'атты', 'уы', 'қын', '▁орын', 'келеді', '▁қи', '▁мақсат', '▁мү', 'астам', '▁сұра', '▁білім', 'алады', 'кезең', 'не', '▁тапсыр', '▁сөз', '▁өс', 'ылып', 'шілік', '▁ба', '▁басқа', 'д', '▁(', 'ни', '▁Ос', '▁То', 'лды', '▁жаз', 'дарға', 'іпті', '▁жат', 'хана', '▁кәсіп', 'атып', 'іске', '▁ау', 'дегі', 'ік', '▁ха', 'С', '▁мемлекет', '▁за', 'қоғам', '▁жел', 'керлері', '▁су', 'стан', '▁күш', '▁сала', 'Мемлекет', 'ларын', 'ғаш', 'бек', '▁жүргізіл', '▁өк', '▁еңбек', 'лер', '▁жет', 'ә', '▁жүйе', 'асының', '▁үш', 'тардың', '▁бұр', '▁кезде', '▁қайта', '▁бү', 'дай', 'лыққа', 'аңызды', 'ев', '▁тұ', 'ұлы', 'елді', '▁жар', 'дің', '▁балалар', '▁Ақ', 'зір', 'керлер', '▁ұл', 'шағы', '▁нау', 'мыз', '▁басқар', 'ай', '▁негіз', 'мәлім', '▁полици', '▁белгіл', '▁жи', 'йы', 'еміз', '▁Айт', '▁тә', '▁Об', '▁қай', '▁төр', '▁басты', '▁Би', 'уды', 'ындай', '▁болс', 'налған', '://', '▁заң', '▁құрыл', 'ғасы', '▁салын', '▁кеңе', '▁шақыр', 'айын', 'істі', '▁бөлім', '▁атқар', 'халық', 'па', '▁ақпарат', 'бет', 'гінде', 'ші', '▁Ш', 'түрлі', '▁біл', 'ар', 'құрылыс', '▁қо', '▁бірі', '▁https', 'қаржы', '▁оқы', 'аралық', '▁жоспар', 'ақша', '▁мә', 'ұлтан', '▁тарт', 'айту', 'ыс', '▁ше', 'ме', 'Б', 'сына', '▁се', 'ясында', '▁ос', '▁жұм', '▁сол', 'Бұ', '▁же', '▁көл', '▁ескер', '▁енгіз', 'өнер', 'қым', 'іміздің', '▁көз', 'ушылар', '▁Кө', 'келді', 'лері', 't', '▁тек', 'әлі', 'тарға', 'өте', 'неше', '▁ө', '▁п', 'ікті', '▁дә', 'ек', '▁қу', 'імізде', '▁кір', '▁төле', '▁жеңі', '▁рет', 'ысының', 'лысы', '▁орган', 'уі', 'саны', '▁жина', 'еткен', 'март', 'тарды', '▁Сол', 'шаруашылы', 'басшы', '▁мере', 'уына', 'дел', '▁тө', '▁тексер', '▁өзгер', '▁бөлін', 'Р', 'баев', 'тері', '▁жалғас', 'герлер', 'се', ')', '▁тірке', '▁1', '▁режим', '▁хал', 'тырған', 'ққан', 'інгі', '▁шығ', 'уде', 'сан', '▁Д', 'мақ', '▁жұ', 'асындағы', 'кінші', '▁аш', '▁ұ', 'Жо', 'қандай', '▁Қара', 'А', '!', 'шкі', '▁әз', '▁Ай', '▁талап', '▁айма', 'тай', '▁тәр', 'енді', 'әлем', '▁таңда', '▁тарих', 'май', '▁шекте', 'мек', 'талған', 'аға', 'ие', '▁айнал', '▁көтер', '▁сә', '▁әй', '▁қолдан', 'сақ', 'сіздік', '▁қат', 'лай', 'імен', 'тердің', '▁Жа', 'ісі', 'Ж', 'дарының', 'нен', '▁қ', '▁Бас', '▁бұз', 'месе', '▁тоқта', 'орда', 'лады', 'рд', 'айдың', '▁жу', 'ілдері', 'лықтың', 'Алматы', '▁болу', 'ғыз', 'нім', '▁з', 'іңіз', 'ухан', 'ел', 'істер', 'ала', '▁те', 'алаң', 'ету', 'сек', '▁спорт', '▁Мә', '▁ауыр', '▁жо', 'демия', 'береді', '▁Бар', 'ырып', 'асына', 'дей', 'ушы', '▁әс', 'уді', 'емде', 'кі', '▁топ', 'нәтиже', '▁бері', 'өзі', 'дамыт', '▁министр', '▁таны', '▁сыр', 'аяқта', 'тып', '▁онлайн', '▁бөлі', '▁себе', '▁құрал', 'кені', '▁дайын', '▁жүрг', 'олар', 'дер', '▁күре', '▁анықтал', 'енің', '▁тап', '▁тү', '▁партия', '▁ерекше', 'ғай', '▁деңгей', '▁жағ', '▁Та', 'рын', 'шықты', 'ірде', 'иялық', '▁компания', '▁оны', 'лігі', 'екті', 'қор', 'йтын', 'асында', '▁қан', 'бы', '▁құра', '▁бизнес', '▁дер', 'қажетті', '▁қалды', '▁айналы', 'лап', '▁бұ', '▁байланыс', '▁мекен', 'ынды', 'ағат', 'қас', 'жоғары', '▁10', 'терге', '▁баға', 'лығын', '▁анықта', '▁бет', '▁есе', '▁оң', 'йт', '▁2', 'ный', 'қызметі', 'етті', 'сөз', 'лықты', 'ымыздың', 'кіл', 'етеді', '▁қыл', 'ырған', 'ылай', '▁ұйым', '▁кей', '▁пайдалану', '▁қор', 'қта', 'ологиялық', 'андық', 'ларына', 'лікті', '▁дәл', 'есі', '▁міндет', 'тарына', 'оқи', 'арқа', '▁инфекци', 'қтық', '▁жарияла', 'ілетін', 'міз', '▁тол', 'хам', 'тті', 'ні', '▁ма', 'ақын', 'ая', 'айлы', '▁3', '▁жібер', 'дарын', 'бақылау', 'ылады', 'ыстың', 'нған', 'дарды', 'мын', '▁көб', '▁Де', 'ғында', 'ғыр', 'сәйкес', '▁санитар', 'еуі', '▁шал', '▁өн', 'ғи', '▁өндір', '▁сен', '▁ойла', 'ысқа', 'сінде', '▁кездес', 'бі', '▁неси', 'лып', 'адамдар', 'ісін', '▁жал', '▁сай', '▁күр', '▁түсін', 'тұрақт', '▁орналас', 'дердің', 'денса', 'тарын', 'хан', 'емін', 'лерін', 'луын', '▁зор', '▁келтір', '▁бойы', '▁ү', 'стық', 'ана', '▁үз', 'ындар', '▁Ер', 'АҚ', 'сынан', '▁Ар', 'дүние', 'тылған', '▁күт', '▁тір', '▁білдір', 'ретінде', 'ән', 'орытынды', 'тү', '▁заман', 'маған', 'терді', '▁кеше', '▁жай', '▁меке', '▁бюджет', '▁күй', 'масы', 'нды', '▁бес', '▁қыс', 'шама', '▁арттыр', '▁сау', 'майды', 'шылық', 'сынып', 'мір', '▁жүргізу', '▁қоры', 'Ш', '▁жетк', '▁байқа', '▁аудар', 'ғылым', '▁үйре', 'ғанда', 'дігі', '▁ұр', 'ылатын', 'мед', '▁келе', 'амын', 'ныс', 'ңіл', '▁әл', '▁COVID', 'мақта', '▁Х', '▁мал', 'қосымша', 'тап', '▁Аб', 'ну', 'ймын', 'ұрыс', 'су', 'іліп', 'делі', 'стар', '▁тапсырма', '▁республика', 'ки', 'бәр', 'қаш', '▁Құ', '▁тұт', 'көл', 'лдің', 'берген', 'ларының', '▁бола', 'ұлға', 'ғыс', 'ірі', 'еш', 'іл', 'лген', 'ия', 'ысты', '▁дайында', 'алды', 'экономикалық', 'сінің', '▁қыз', 'улы', '▁4', 'ымен', '\",', 'сары', 'ұл', 'К', 'был', 'ең', '▁саясат', '▁жүргіз', 'шылар', '▁Се', 'аума', '-19', '▁ор', 'енсаулы', 'ал', 'назар', 'Өз', 'мін', 'департамент', 'лердің', 'шісі', 'йді', 'қара', '▁авто', 'ман', '▁төмен', 'рыз', 'одан', '▁шығарма', '▁Ма', 'салы', 'удің', '▁өзге', '▁қызы', 'лау', 'дерінің', '▁Бү', 'ың', 'лерді', 'ымды', '▁қата', '▁сан', 'қай', 'леріне', 'алдын', 'Жаңа', '▁5', 'ысын', 'ақы', '▁бағыт', 'ақты', 'деу', 'ңға', '▁І', 'расында', 'мет', 'ткен']\n"
          ]
        }
      ]
    },
    {
      "cell_type": "code",
      "metadata": {
        "colab": {
          "base_uri": "https://localhost:8080/"
        },
        "id": "J-aSMIB1Pxvh",
        "outputId": "71df7908-f92f-49c6-8941-3b23116625cb"
      },
      "source": [
        "new_tokens = set(range(10000))\n",
        "for i, (k, v) in enumerate(cnt_kaz.most_common(10_000)):\n",
        "    if k not in new_tokens:\n",
        "        new_tokens.add(k)\n",
        "\n",
        "for t in range(tokenizer.vocab_size - 100, tokenizer.vocab_size):\n",
        "    new_tokens.add(t)\n",
        "\n",
        "print(len(new_tokens))\n",
        "kept_ids = sorted(new_tokens)"
      ],
      "execution_count": null,
      "outputs": [
        {
          "output_type": "stream",
          "name": "stdout",
          "text": [
            "17082\n"
          ]
        }
      ]
    },
    {
      "cell_type": "markdown",
      "metadata": {
        "id": "BLAFLhrDoD4U"
      },
      "source": [
        "The new vocabulary is only 12% of the original one. "
      ]
    },
    {
      "cell_type": "code",
      "metadata": {
        "colab": {
          "base_uri": "https://localhost:8080/"
        },
        "id": "q21bC7tpTyuW",
        "outputId": "74764066-b2b7-4524-bb11-1ef19f9610e2"
      },
      "source": [
        "len(kept_ids) / tokenizer.vocab_size"
      ],
      "execution_count": null,
      "outputs": [
        {
          "output_type": "execute_result",
          "data": {
            "text/plain": [
              "0.06830067972810876"
            ]
          },
          "metadata": {},
          "execution_count": 62
        }
      ]
    },
    {
      "cell_type": "markdown",
      "metadata": {
        "id": "s9ZrtTdcRfN_"
      },
      "source": [
        "The plot shows that the tokens that were more frequent in the original vocabulary more frequently get into the new vocabulary (so that the curve bends upward). "
      ]
    },
    {
      "cell_type": "code",
      "metadata": {
        "colab": {
          "base_uri": "https://localhost:8080/",
          "height": 279
        },
        "id": "IAPmeDZmRDIf",
        "outputId": "5d2e4a28-e2df-4df5-946e-4271b25ac797"
      },
      "source": [
        "import matplotlib.pyplot as plt\n",
        "plt.plot(kept_ids)\n",
        "plt.xlabel('new id of token')\n",
        "plt.ylabel('old id of token');"
      ],
      "execution_count": null,
      "outputs": [
        {
          "output_type": "display_data",
          "data": {
            "text/plain": [
              "<Figure size 432x288 with 1 Axes>"
            ],
            "image/png": "[encoded data removed]"
          },
          "metadata": {
            "needs_background": "light"
          }
        }
      ]
    },
    {
      "cell_type": "markdown",
      "metadata": {
        "id": "IaaCyAPlomLt"
      },
      "source": [
        "### Update the embeddings"
      ]
    },
    {
      "cell_type": "code",
      "metadata": {
        "id": "k-BNn3R6R0lY"
      },
      "source": [
        "import torch"
      ],
      "execution_count": null,
      "outputs": []
    },
    {
      "cell_type": "code",
      "metadata": {
        "id": "P5033SckRzzo"
      },
      "source": [
        "new_size = len(kept_ids)\n",
        "new_emb = torch.nn.Embedding(new_size, model.shared.embedding_dim)\n",
        "new_head = torch.nn.Linear(in_features=model.lm_head.in_features, out_features=new_size, bias=False)"
      ],
      "execution_count": null,
      "outputs": []
    },
    {
      "cell_type": "code",
      "metadata": {
        "id": "CjD6LS_9fe_M"
      },
      "source": [
        "for new_id, old_id in enumerate(kept_ids):\n",
        "    new_emb.weight.data[new_id] = model.shared.weight.data[old_id]\n",
        "    new_head.weight.data[new_id] = model.lm_head.weight.data[old_id]"
      ],
      "execution_count": null,
      "outputs": []
    },
    {
      "cell_type": "code",
      "metadata": {
        "id": "vv7IuBORRseE"
      },
      "source": [
        "model.shared.weight = new_emb.weight\n",
        "model.lm_head.weight = new_head.weight"
      ],
      "execution_count": null,
      "outputs": []
    },
    {
      "cell_type": "markdown",
      "metadata": {
        "id": "QcIDtmymo56s"
      },
      "source": [
        "The new model has 244M parameters - 42% of the original size. "
      ]
    },
    {
      "cell_type": "code",
      "metadata": {
        "colab": {
          "base_uri": "https://localhost:8080/"
        },
        "id": "g_aPBQ20kvCB",
        "outputId": "23356e44-ae5d-4978-903f-bf476f0c828f"
      },
      "source": [
        "print(msize(model), msize(model) / original_size)"
      ],
      "execution_count": null,
      "outputs": [
        {
          "output_type": "stream",
          "name": "stdout",
          "text": [
            "752335872 0.6118634568187061\n"
          ]
        }
      ]
    },
    {
      "cell_type": "markdown",
      "metadata": {
        "id": "vdKmFJY_k7xZ"
      },
      "source": [
        "### Update the tokenizer"
      ]
    },
    {
      "cell_type": "markdown",
      "metadata": {
        "id": "-X25sG0jmc83"
      },
      "source": [
        "T5 uses Sentencepiece tokenizer, which is implemented in C and is opaque to Python. \n",
        "\n",
        "Fortunately, we can download its model and deploy it into Python using its Protobuf representation. \n",
        "\n",
        "https://github.com/google/sentencepiece/issues/121"
      ]
    },
    {
      "cell_type": "code",
      "metadata": {
        "id": "OpII_eX3mY80",
        "colab": {
          "base_uri": "https://localhost:8080/"
        },
        "outputId": "70bd90db-34e6-49d4-892f-b2a0d774dde7"
      },
      "source": [
        "!wget https://raw.githubusercontent.com/google/sentencepiece/master/src/sentencepiece_model.proto"
      ],
      "execution_count": null,
      "outputs": [
        {
          "output_type": "stream",
          "name": "stdout",
          "text": [
            "--2023-02-24 07:07:45--  https://raw.githubusercontent.com/google/sentencepiece/master/src/sentencepiece_model.proto\n",
            "Resolving raw.githubusercontent.com (raw.githubusercontent.com)... 185.199.108.133, 185.199.109.133, 185.199.110.133, ...\n",
            "Connecting to raw.githubusercontent.com (raw.githubusercontent.com)|185.199.108.133|:443... connected.\n",
            "HTTP request sent, awaiting response... 200 OK\n",
            "Length: 13451 (13K) [text/plain]\n",
            "Saving to: ‘sentencepiece_model.proto’\n",
            "\n",
            "\r          sentencep   0%[                    ]       0  --.-KB/s               \rsentencepiece_model 100%[===================>]  13.14K  --.-KB/s    in 0s      \n",
            "\n",
            "2023-02-24 07:07:45 (104 MB/s) - ‘sentencepiece_model.proto’ saved [13451/13451]\n",
            "\n"
          ]
        }
      ]
    },
    {
      "cell_type": "code",
      "metadata": {
        "id": "I6B0MA5DmaZM"
      },
      "source": [
        "! protoc --python_out=. sentencepiece_model.proto"
      ],
      "execution_count": null,
      "outputs": []
    },
    {
      "cell_type": "code",
      "metadata": {
        "colab": {
          "base_uri": "https://localhost:8080/",
          "height": 101,
          "referenced_widgets": [
            "6e7f383a3b4c47c4ab5e1cd1163d85a3",
            "6c80872eacad48a5bf8c62a04cfc77af",
            "288bc594532247088f71345eb9504423",
            "d819caf3fd8549aaaf4f1aed9fbe8722",
            "5f26923f68c34026a877b6f765483b33",
            "5641ed0996ca48019102ea0a8b9aa06a",
            "5a46565467b841ef83d1d2492e915d85",
            "daf9bd21bb9743b28e4cc33633855a09",
            "bc28681eb0e24621861944916c504cf3",
            "41095a1236f048da9f08a06a27099e81",
            "19f06ea323524434bd9c5d3680b84c89"
          ]
        },
        "id": "MdQM0L3lnybA",
        "outputId": "82c5d51a-e202-43d7-e167-31e462675610"
      },
      "source": [
        "import sentencepiece_model_pb2 as spmp\n",
        "smp = tokenizer.sp_model.serialized_model_proto()\n",
        "m = spmp.ModelProto()\n",
        "m.ParseFromString(smp)\n",
        "\n",
        "print('the loaded model has pieces:', len(m.pieces))\n",
        "new_pieces = [m.pieces[idx] for idx in kept_ids]\n",
        "print('the new pieces:', len(new_pieces))\n",
        "\n",
        "# replace the content of the first 30K pieces\n",
        "for i, p in enumerate(new_pieces):\n",
        "    m.pieces[i].piece = p.piece\n",
        "    m.pieces[i].score = p.score\n",
        "    m.pieces[i].type = p.type\n",
        "\n",
        "# drop the remaining pieces\n",
        "n = len(new_pieces)\n",
        "for i in trange(len(m.pieces) - n):\n",
        "    m.pieces.pop(len(m.pieces) - 1)\n",
        "\n",
        "print(len(m.pieces))\n",
        "with open('new_sp.model', 'wb') as f:\n",
        "    f.write(m.SerializeToString())"
      ],
      "execution_count": null,
      "outputs": [
        {
          "output_type": "stream",
          "name": "stdout",
          "text": [
            "the loaded model has pieces: 250100\n",
            "the new pieces: 17082\n"
          ]
        },
        {
          "output_type": "display_data",
          "data": {
            "text/plain": [
              "  0%|          | 0/233018 [00:00<?, ?it/s]"
            ],
            "application/vnd.jupyter.widget-view+json": {
              "version_major": 2,
              "version_minor": 0,
              "model_id": "6e7f383a3b4c47c4ab5e1cd1163d85a3"
            }
          },
          "metadata": {}
        },
        {
          "output_type": "stream",
          "name": "stdout",
          "text": [
            "17082\n"
          ]
        }
      ]
    },
    {
      "cell_type": "code",
      "metadata": {
        "id": "qWeP6N1sry93"
      },
      "source": [
        "new_tokenizer = T5Tokenizer('new_sp.model', extra_ids=0)"
      ],
      "execution_count": null,
      "outputs": []
    },
    {
      "cell_type": "markdown",
      "metadata": {
        "id": "czfXG1IqsDT4"
      },
      "source": [
        "### Save the model"
      ]
    },
    {
      "cell_type": "code",
      "metadata": {
        "colab": {
          "base_uri": "https://localhost:8080/"
        },
        "id": "oanCNPiIsCdU",
        "outputId": "f2db863a-4b03-4599-fa96-d12f405d1968"
      },
      "source": [
        "model.config.__dict__['vocab_size'] = new_size\n",
        "model.config.__dict__['_name_or_path'] = 'cointegrated/kaz5-base-large'\n",
        "model.config"
      ],
      "execution_count": null,
      "outputs": [
        {
          "output_type": "execute_result",
          "data": {
            "text/plain": [
              "T5Config {\n",
              "  \"_name_or_path\": \"cointegrated/kaz5-base-large\",\n",
              "  \"architectures\": [\n",
              "    \"MT5ForConditionalGeneration\"\n",
              "  ],\n",
              "  \"d_ff\": 2816,\n",
              "  \"d_kv\": 64,\n",
              "  \"d_model\": 1024,\n",
              "  \"decoder_start_token_id\": 0,\n",
              "  \"dense_act_fn\": \"gelu_new\",\n",
              "  \"dropout_rate\": 0.1,\n",
              "  \"eos_token_id\": 1,\n",
              "  \"feed_forward_proj\": \"gated-gelu\",\n",
              "  \"initializer_factor\": 1.0,\n",
              "  \"is_encoder_decoder\": true,\n",
              "  \"is_gated_act\": true,\n",
              "  \"layer_norm_epsilon\": 1e-06,\n",
              "  \"model_type\": \"t5\",\n",
              "  \"num_decoder_layers\": 24,\n",
              "  \"num_heads\": 16,\n",
              "  \"num_layers\": 24,\n",
              "  \"output_past\": true,\n",
              "  \"pad_token_id\": 0,\n",
              "  \"relative_attention_max_distance\": 128,\n",
              "  \"relative_attention_num_buckets\": 32,\n",
              "  \"tie_word_embeddings\": false,\n",
              "  \"tokenizer_class\": \"T5Tokenizer\",\n",
              "  \"transformers_version\": \"4.26.1\",\n",
              "  \"use_cache\": true,\n",
              "  \"vocab_size\": 17082\n",
              "}"
            ]
          },
          "metadata": {},
          "execution_count": 71
        }
      ]
    },
    {
      "cell_type": "code",
      "metadata": {
        "id": "UaebisNqr4Mk"
      },
      "source": [
        "new_tokenizer.save_pretrained('kaz5-base-large')\n",
        "model.save_pretrained('kaz5-base-large')"
      ],
      "execution_count": null,
      "outputs": []
    },
    {
      "cell_type": "code",
      "metadata": {
        "colab": {
          "base_uri": "https://localhost:8080/"
        },
        "id": "nIoB98_9r7VU",
        "outputId": "dcb3d796-b222-4413-8ee6-c3e47d5043d3"
      },
      "source": [
        "!ls kaz5-base-large -alsh"
      ],
      "execution_count": null,
      "outputs": [
        {
          "output_type": "stream",
          "name": "stdout",
          "text": [
            "total 2.9G\n",
            "4.0K drwxr-xr-x 2 root root 4.0K Feb 24 07:40 .\n",
            "4.0K drwxr-xr-x 1 root root 4.0K Feb 24 07:40 ..\n",
            "4.0K -rw-r--r-- 1 root root  809 Feb 24 07:40 config.json\n",
            "4.0K -rw-r--r-- 1 root root  142 Feb 24 07:40 generation_config.json\n",
            "2.9G -rw-r--r-- 1 root root 2.9G Feb 24 07:40 pytorch_model.bin\n",
            "4.0K -rw-r--r-- 1 root root   74 Feb 24 07:40 special_tokens_map.json\n",
            "536K -rw-r--r-- 1 root root 535K Feb 24 07:40 spiece.model\n",
            "4.0K -rw-r--r-- 1 root root  245 Feb 24 07:40 tokenizer_config.json\n"
          ]
        }
      ]
    },
    {
      "cell_type": "markdown",
      "metadata": {
        "id": "5gFLD5dUs7gZ"
      },
      "source": [
        "Now try to load the model"
      ]
    },
    {
      "cell_type": "code",
      "metadata": {
        "id": "ewebox5usyq9"
      },
      "source": [
        "model1 = T5ForConditionalGeneration.from_pretrained('kaz5-base-large')\n",
        "tokenizer1 = T5Tokenizer.from_pretrained('kaz5-base-large')"
      ],
      "execution_count": null,
      "outputs": []
    },
    {
      "cell_type": "code",
      "metadata": {
        "colab": {
          "base_uri": "https://localhost:8080/"
        },
        "id": "tsR9lH3_uqF3",
        "outputId": "4ac7c320-4d7b-49f0-f752-f68622c56209"
      },
      "source": [
        "inputs = tokenizer1('Менің <extra_id_0> Курмаш.', return_tensors='pt')\n",
        "with torch.no_grad():\n",
        "    hypotheses = model1.generate(\n",
        "        **inputs, \n",
        "        do_sample=True, top_p=0.95, \n",
        "        num_return_sequences=3, \n",
        "        repetition_penalty=2.5,\n",
        "        max_length=32,\n",
        "    )\n",
        "for h in hypotheses:\n",
        "    print(tokenizer1.decode(h))"
      ],
      "execution_count": null,
      "outputs": [
        {
          "output_type": "stream",
          "name": "stdout",
          "text": [
            "<pad><extra_id_0> Сайтымның <extra_id_1> Сайтылым. Пейтап барам. Украина. Не работает Автосервисы <extra_id_15> сайтың: Менің Бизнес\n",
            "<pad><extra_id_0> Атының порталы <extra_id_1> ательемін <extra_id_15> астам менгемелері. Интернет-радиофирма <extra_id_16> Атамды қаражаттандыруын сату бойынша\n",
            "<pad><extra_id_0> барш: ТК <extra_id_1> менсін. <extra_id_15> б-м. Фотогалерея, картина \"Ревю\" на фото <extra_id_16> көрген\n"
          ]
        }
      ]
    },
    {
      "cell_type": "code",
      "metadata": {
        "colab": {
          "base_uri": "https://localhost:8080/"
        },
        "id": "iMG9dNShwg9U",
        "outputId": "e32cf35a-a91e-45f6-c277-2ee2d3bbf392"
      },
      "source": [
        "from google.colab import drive\n",
        "drive.mount('/gd')"
      ],
      "execution_count": null,
      "outputs": [
        {
          "output_type": "stream",
          "name": "stdout",
          "text": [
            "Drive already mounted at /gd; to attempt to forcibly remount, call drive.mount(\"/gd\", force_remount=True).\n"
          ]
        }
      ]
    },
    {
      "cell_type": "code",
      "metadata": {
        "colab": {
          "base_uri": "https://localhost:8080/"
        },
        "id": "_j56QoXBwjCS",
        "outputId": "a466e77c-e99e-4ecf-a998-a80e2886e294"
      },
      "source": [
        "model1.save_pretrained('/gd/MyDrive/models/kaz5-base-large-raw')\n",
        "tokenizer1.save_pretrained('/gd/MyDrive/models/kaz5-base-large-raw')"
      ],
      "execution_count": null,
      "outputs": [
        {
          "output_type": "execute_result",
          "data": {
            "text/plain": [
              "('/gd/MyDrive/models/kaz5-base-large-raw/tokenizer_config.json',\n",
              " '/gd/MyDrive/models/kaz5-base-large-raw/special_tokens_map.json',\n",
              " '/gd/MyDrive/models/kaz5-base-large-raw/spiece.model',\n",
              " '/gd/MyDrive/models/kaz5-base-large-raw/added_tokens.json')"
            ]
          },
          "metadata": {},
          "execution_count": 77
        }
      ]
    },
    {
      "cell_type": "code",
      "metadata": {
        "id": "57AlTaqpw2Ew"
      },
      "source": [],
      "execution_count": null,
      "outputs": []
    }
  ]
}